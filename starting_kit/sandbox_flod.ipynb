{
 "cells": [
  {
   "cell_type": "markdown",
   "metadata": {},
   "source": [
    "<hr style=\"border-width:2px;border-color:#84C7F7\">\n",
    "<center><h1> Meta-learning competition </h1></center>\n",
    "<center><h2>  Few-shot learning </h2></center>\n",
    "<hr style=\"border-width:2px;border-color:#84C7F7\">\n",
    "\n",
    "Make sure you have the **meta_dataset** and **metadl** packages installed in your kernel environment. If you ran the <code>quick_start.sh</code> script, make sure you activated the **metadl** conda environment before launching the jupyter notebook. Here is the link of the [CodaLab competition](https://competitions.codalab.org/competitions/26212?secret_key=a50a8a46-e33a-497c-9121-d56a0b576c07) where you can submit your code and check the leaderboard.\n",
    "\n",
    "\n",
    "<u>**Outline**</u> : \n",
    "* **I - Data exploration** : We define the few-shot learning setup and explore how the data is formatted\n",
    "* **II - Submission details** : We present how a submission should be organized\n",
    "* **III - Test and submission** : We present how to test a potential submission and also how to zip your scripts to submit your code on CodaLab. "
   ]
  },
  {
   "cell_type": "code",
   "execution_count": 2,
   "metadata": {},
   "outputs": [
    {
     "name": "stderr",
     "output_type": "stream",
     "text": [
      "WARNING:root:Argument whitelist is deprecated. Please use allowlist.\n",
      "WARNING:root:Argument whitelist is deprecated. Please use allowlist.\n",
      "WARNING:root:Argument whitelist is deprecated. Please use allowlist.\n",
      "WARNING:root:Argument whitelist is deprecated. Please use allowlist.\n"
     ]
    }
   ],
   "source": [
    "import os\n",
    "from collections import Counter\n",
    "\n",
    "import gin\n",
    "import numpy as np\n",
    "import tensorflow as tf\n",
    "import matplotlib.pyplot as plt\n",
    "\n",
    "from meta_dataset.data import config\n",
    "from meta_dataset.data import pipeline\n",
    "from meta_dataset.data import learning_spec\n",
    "from meta_dataset.data import dataset_spec as dataset_spec_lib\n",
    "\n",
    "tf.get_logger().setLevel('INFO')\n",
    "\n",
    "def plot_episode(support_images, support_class_ids, query_images,\n",
    "                 query_class_ids, size_multiplier=1, max_imgs_per_col=10,\n",
    "                 max_imgs_per_row=10):\n",
    "    \"\"\"Plots the content of an episode. Episodes are composed of a support set \n",
    "    (training set) and a query set (test set). The different numbers of examples in\n",
    "    each set will be detailled in the starting kit.\n",
    "    Args:\n",
    "        - support_images : tuple, (Batch_size_support, Height, Width, Channels)\n",
    "        - support_class_ids : tuple, (Batch_size_support, N_class)\n",
    "        - query_images : tuple, (Batch_size_query, Height, Width, Channels)\n",
    "        - size_multiplier : dilate or shrink the size of displayed images\n",
    "        - max_imgs_per_col : Integer, Number of images in a column\n",
    "        - max_imgs_per_row : Integer, Number of images in a row\n",
    "    \"\"\"\n",
    "    \n",
    "    for name, images, class_ids in zip(('Support', 'Query'),\n",
    "                                     (support_images, query_images),\n",
    "                                     (support_class_ids, query_class_ids)):\n",
    "        n_samples_per_class = Counter(class_ids)\n",
    "        n_samples_per_class = {k: min(v, max_imgs_per_col)\n",
    "                               for k, v in n_samples_per_class.items()}\n",
    "        id_plot_index_map = {k: i for i, k\n",
    "                             in enumerate(n_samples_per_class.keys())}\n",
    "        num_classes = min(max_imgs_per_row, len(n_samples_per_class.keys()))\n",
    "        max_n_sample = max(n_samples_per_class.values())\n",
    "        figwidth = max_n_sample\n",
    "        figheight = num_classes\n",
    "        if name == 'Support':\n",
    "            print('#Classes: %d' % len(n_samples_per_class.keys()))\n",
    "        figsize = (figheight * size_multiplier, figwidth * size_multiplier)\n",
    "        fig, axarr = plt.subplots(\n",
    "            figwidth, figheight, figsize=figsize)\n",
    "        fig.suptitle('%s Set' % name, size='15')\n",
    "        fig.tight_layout(pad=3, w_pad=0.1, h_pad=0.1)\n",
    "        reverse_id_map = {v: k for k, v in id_plot_index_map.items()}\n",
    "        for i, ax in enumerate(axarr.flat):\n",
    "            ax.patch.set_alpha(0)\n",
    "            # Print the class ids, this is needed since, we want to set the x axis\n",
    "            # even there is no picture.\n",
    "            ax.set(xlabel=reverse_id_map[i % figheight], xticks=[], yticks=[])\n",
    "            ax.label_outer()\n",
    "        for image, class_id in zip(images, class_ids):\n",
    "            # First decrement by one to find last spot for the class id.\n",
    "            n_samples_per_class[class_id] -= 1\n",
    "            # If class column is filled or not represented: pass.\n",
    "            if (n_samples_per_class[class_id] < 0 or\n",
    "              id_plot_index_map[class_id] >= max_imgs_per_row):\n",
    "                continue\n",
    "            # If width or height is 1, then axarr is a vector.\n",
    "            if axarr.ndim == 1:\n",
    "                ax = axarr[n_samples_per_class[class_id]\n",
    "                           if figheight == 1 else id_plot_index_map[class_id]]\n",
    "            else:\n",
    "                ax = axarr[n_samples_per_class[class_id], id_plot_index_map[class_id]]\n",
    "            ax.imshow(image / 2 + 0.5)\n",
    "        plt.show()\n",
    "\n",
    "\n",
    "def iterate_dataset(dataset, n):\n",
    "    \"\"\" Iterates over an episode generator represented by dataset.\n",
    "    It yields n episodes. An episode is a tuple containing images from \n",
    "    the support (train set) and query set (test set). A full episode description\n",
    "    is available in the starting kit.\n",
    "    \"\"\"\n",
    "    if not tf.executing_eagerly():\n",
    "        iterator = dataset.make_one_shot_iterator()\n",
    "        next_element = iterator.get_next()\n",
    "        with tf.Session() as sess:\n",
    "            for idx in range(n):\n",
    "                yield idx, sess.run(next_element)\n",
    "    else:\n",
    "        for idx, episode in enumerate(dataset):\n",
    "            if idx == n:\n",
    "                break\n",
    "            yield idx, episode"
   ]
  },
  {
   "cell_type": "code",
   "execution_count": 3,
   "metadata": {},
   "outputs": [
    {
     "name": "stdout",
     "output_type": "stream",
     "text": [
      "Api.png          \u001b[0m\u001b[01;34m__pycache__\u001b[0m/               mysubmission.zip    \u001b[01;34mscoring_output\u001b[0m/\r\n",
      "FSL_setting.png  evaluation-flow-chart.png  \u001b[01;32mquick_start.sh\u001b[0m*     tutorial.ipynb\r\n",
      "README.md        \u001b[01;34mlogs\u001b[0m/                      sandbox.ipynb       zip_utils.py\r\n",
      "__init__.py      \u001b[01;34mmodel_dir\u001b[0m/                 sandbox_flod.ipynb\r\n"
     ]
    }
   ],
   "source": [
    "ls\n"
   ]
  },
  {
   "cell_type": "markdown",
   "metadata": {},
   "source": [
    "# I - Data exploration\n",
    " The goal of this section is to familiarize participants with the data format used in the challenge.\n",
    "\n",
    "Few-shot learning procedures aim to produce a Learner that is able to quickly adapt to unseen tasks with a few examples. \n",
    "In the standard Machine Learning setting, we usually split the data in train/test sets, these datasets then contain **examples** assumed to be generated from the same distribution. In few-shot learning, we have the same idea but with one additional level of abstraction : we have a meta-train and meta-test split (optionnally a meta-validation split as well). Indeed, meta-train and meta-test dataset are assumed to have **classes** generated from the same **task distribution**. For instance, we consider the Omniglot dataset during the public phase of the challenge. Omniglot is composed of 1623 classes that makes it interesting for meta-learning problems. We seperate these classes in 3 splits, a meta-train, meta-validation and meta-test sets. \n",
    "* **Meta-training** : with data sampled from the meta-train pool, we could meta-train a MetaLearner, i.e. try to learn the best approach to tackle different tasks.\n",
    "* **Meta-validation** : with data sampled from the meta-validation pool, we could adjust the meta-learner's hyper-parameters without worrying about any data leakage.\n",
    "* **Meta-testing** : with data sampled from the meta-test pool, we evaluate the Learner produced by the meta-learning procedure to quickly adapt to new unseen tasks. In order to measure the performance of such behavior, we define what we call **episodes**. These are small tasks, i.e. with a few training examples of unseen classes.\n",
    "\n",
    "Let's formalize some of the ideas exposed above.\n",
    "\n",
    "## Definitions\n",
    " Previously we mentionned the possibility of generating data from a specific split pool. There are 2 different ways to generate data in this challenge. We can either generate data in the form of **episodes** or **batches**. Let's first describe these 2 methods : \n",
    "\n",
    "An **episode**, which represents a **task**, is described as follows : \n",
    "$$ \\mathcal{T} = \\{ \\mathcal{D}_{train}, \\mathcal{D}_{test}\\}$$\n",
    "where $\\mathcal{D}_{train} = \\{x_{i}, y_{i}\\}_{i \\in \\mathcal{I}_{train}}$ is the training set of the task, often called **support set**. $\\mathcal{D}_{test} = \\{x_{i}, y_{i}\\}_{i \\in \\mathcal{I}_{test}}$ is the test set of the task, often called **query set**. Note that $\\mathcal{I}_{train}$ and $\\mathcal{I}_{test}$ are indices of the train and test set examples respectively.\n",
    "\n",
    "A **batch** is a collection of examples sampled from a split pool but **without enforcing a configuration**. For instance, let's say we want to generate data in batch mode from the meta-train pool. We can specify the batch size which is the number of examples to be sampled from the pool. We would directly sample examples from the pool without sampling **classes** as it is the case for episodes. More importantly, there would be no aforementionned $\\mathcal{D}_{test}$ unlike the episodic setting. In order to better visualize the difference with the episode setting, we provide a figure below to illustrate these 2 methods.\n",
    "\n",
    "![Challenge API](FSL_setting.png)\n",
    "\n",
    "\n",
    "## The few-shot learning problem\n",
    "\n",
    "The few-shot learning problems are often referred as N-way K-shots problem. This name refers to episodes configuration at **meta-test time**. The number of **ways** N denotes the number of classes in an episode that represents an image classification problem. The number of **shots** K denotes the number of examples per class in the **support set**. In our case, we focus on the **5-way 1-shot** setting. In other words, episodes at meta-test time represent image classification problems with exactly 5 classes, and the **support set** contains 1 labelled example per class. More formally, $|\\mathcal{I}_{train} | = 5$. \n",
    "Let's summarize the different parts of the meta-learning procedure.\n",
    "\n",
    "* At **meta-train** time : This is the part you have control on. You can choose to generate data from the meta-train split in the form of **episodes** or **batches**.\n",
    "* At **meta-test** time : We always evaluate your few-shot learning algorithm using the same setting, we generate new unseen tasks from the meta-test pool in the form of episodes. Actually these episodes have a fixed configuration, the 5-way 1-shot setting. It essentially means that when you receive a new unseen task, the support set (i.e. train set) will be composed of 5 examples, 1 for each class represented. The query set (i.e. test set) is composed of multiple unlabelled examples corresponding to theses classes. We control the number of examples in the query set, and it depends on the challenge phase. For instance, for the Omniglot dataset, the episodes' query sets at meta-test time are composed of 19 examples per class (95 examples in total).\n",
    "\n",
    "In this challenge, the episodes are generated **on the fly** from our datasets. Also, it is worth mentioning that the episodes and batches are coming from **generators**, meaning that there are virtually infinite. \n",
    " \n",
    "The number of examples in the **query set** usually depends on the number of examples for each class available in a dataset. In the public dataset (Omniglot), each class has 20 examples and we thus decide to set $|\\mathcal{I}_{test}| = |N| * 19$ = 95. A visual example using the Omniglot dataset using this setting is displayed in the figure below. Note that this setting is an example, one could change the way the data is received at meta-train time. For example we could change the number of classes in an episode at meta-train time as in the prototypical networks algorithm. That is, you creates episodes containing 60 classes at meta-train time and evaluate the meta-learning algorithm performance with episodes containing 5 classes at meta-test time. \n",
    "\n",
    "\n",
    "\n",
    "\n",
    "**Note** : Make sure you have downloaded the public data under <code>omniglot/</code> directory in the root directory of this project, i.e. **../metadl**.\n",
    "Let's see how it looks like in practice : "
   ]
  },
  {
   "cell_type": "code",
   "execution_count": 4,
   "metadata": {},
   "outputs": [
    {
     "name": "stdout",
     "output_type": "stream",
     "text": [
      "WARNING:tensorflow:From /app/packages/meta-dataset/meta_dataset/data/pipeline.py:205: calling map_fn (from tensorflow.python.ops.map_fn) with dtype is deprecated and will be removed in a future version.\n",
      "Instructions for updating:\n",
      "Use fn_output_signature instead\n"
     ]
    },
    {
     "name": "stderr",
     "output_type": "stream",
     "text": [
      "WARNING:tensorflow:From /app/packages/meta-dataset/meta_dataset/data/pipeline.py:205: calling map_fn (from tensorflow.python.ops.map_fn) with dtype is deprecated and will be removed in a future version.\n",
      "Instructions for updating:\n",
      "Use fn_output_signature instead\n"
     ]
    }
   ],
   "source": [
    "from metadl.data.dataset import DataGenerator\n",
    "\n",
    "config_episode = [28, 5, 1, 19] # [img_size, N_ways, K_shot, nbr_query_ex]\n",
    "meta_train_dir = '../../omniglot/meta_train' # Path to Public data\n",
    "\n",
    "\n",
    "# The DataGenerator initialization creates 2 generators as attributes :\n",
    "# Meta-train data generator : meta_train_pipeline\n",
    "# Meta-valid data generator : meta_valid_pipeline\n",
    "data_generator = DataGenerator(path_to_records=meta_train_dir,\n",
    "                                batch_config=None,\n",
    "                                episode_config=config_episode,\n",
    "                                valid_episode_config=config_episode,\n",
    "                                pool='train',\n",
    "                                mode='episode')\n",
    "meta_train_generator = data_generator.meta_train_pipeline\n",
    "meta_valid_generator = data_generator.meta_valid_pipeline\n"
   ]
  },
  {
   "cell_type": "markdown",
   "metadata": {},
   "source": [
    "In the previous cell, we created a <code>DataGenerator</code> object. You receive data during meta-training through this object. Notice that you can specify the configuration of meta-train and meta-valid episodes, but you could switch to <code>mode='batch'</code> if you think it would improve your meta-algorithm performance. We are going to visualize data generated as **episodes** and **batches** in the next code cells. "
   ]
  },
  {
   "cell_type": "code",
   "execution_count": 5,
   "metadata": {},
   "outputs": [
    {
     "name": "stdout",
     "output_type": "stream",
     "text": [
      "Episode id: 0 from source omniglot\n",
      "#Classes: 5\n"
     ]
    },
    {
     "name": "stderr",
     "output_type": "stream",
     "text": [
      "/usr/local/lib/python3.6/dist-packages/ipykernel_launcher.py:49: UserWarning: Tight layout not applied. The bottom and top margins cannot be made large enough to accommodate all axes decorations. \n"
     ]
    },
    {
     "data": {
      "image/png": "[encoded data removed]",
      "text/plain": [
       "<Figure size 360x72 with 5 Axes>"
      ]
     },
     "metadata": {},
     "output_type": "display_data"
    },
    {
     "data": {
      "image/png": "[encoded data removed]",
      "text/plain": [
       "<Figure size 360x720 with 50 Axes>"
      ]
     },
     "metadata": {},
     "output_type": "display_data"
    },
    {
     "name": "stdout",
     "output_type": "stream",
     "text": [
      "Episode id: 1 from source omniglot\n",
      "#Classes: 5\n"
     ]
    },
    {
     "data": {
      "image/png": "[encoded data removed]",
      "text/plain": [
       "<Figure size 360x72 with 5 Axes>"
      ]
     },
     "metadata": {},
     "output_type": "display_data"
    },
    {
     "data": {
      "image/png": "[encoded data removed]",
      "text/plain": [
       "<Figure size 360x720 with 50 Axes>"
      ]
     },
     "metadata": {},
     "output_type": "display_data"
    }
   ],
   "source": [
    "N_EPISODES=2\n",
    "\n",
    "dataset_spec = dataset_spec_lib.load_dataset_spec(meta_train_dir)\n",
    "all_dataset_specs = [dataset_spec]\n",
    "\n",
    "for idx, (episode, source_id) in iterate_dataset(meta_train_generator, N_EPISODES):\n",
    "    print('Episode id: %d from source %s' % (idx, all_dataset_specs[source_id].name))\n",
    "    episode = [a.numpy() for a in episode]\n",
    "    plot_episode(support_images=episode[0], support_class_ids=episode[2],\n",
    "               query_images=episode[3], query_class_ids=episode[5])"
   ]
  },
  {
   "cell_type": "markdown",
   "metadata": {},
   "source": [
    "In the figures above, you can observe the composition of an episode : A **support set** (train) and a **query set** (test). In the next cell, we present some useful caracteristics of an episode."
   ]
  },
  {
   "cell_type": "code",
   "execution_count": 6,
   "metadata": {},
   "outputs": [
    {
     "name": "stdout",
     "output_type": "stream",
     "text": [
      "Length of the tuple describing an episode : 6 \n",
      "\n",
      "######################################################################\n",
      "\n",
      "The episode tuple is organized the following way : \n",
      " \n",
      " [Support_images, Support_labels, Support_original_labels,Query_images, Query_labels, Query_original_labels] \n",
      "\n",
      "######################################################################\n",
      "\n",
      "The support set images are of the following shape : (5, 28, 28, 3) \n",
      "\n",
      "The support set labels are : [0 1 2 3 4] and their shape : (5,) \n",
      "\n",
      "The support set original labels in the dataset from which they are sampled : [743 417 335 119 147] and shape : (5,)\n",
      "\n",
      "######################################################################\n",
      "\n",
      "The query set images are of the following shape : (95, 28, 28, 3) \n",
      "\n",
      "The query set labels shape is : (95,) \n",
      "\n",
      "The query set original labels shape in the dataset from which they are sampled is : (95,) \n",
      "\n"
     ]
    }
   ],
   "source": [
    "print('Length of the tuple describing an episode : {} \\n'\\\n",
    "      .format(len(episode)))\n",
    "print('#'*70)\n",
    "print('\\nThe episode tuple is organized the following way : \\n \\n ' + \n",
    "     '[Support_images, Support_labels, Support_original_labels,' + \n",
    "      'Query_images, Query_labels, Query_original_labels] \\n')\n",
    "print('#'*70)\n",
    "print('\\nThe support set images are of the following shape : {} \\n'\\\n",
    "      .format(episode[0].shape))\n",
    "print('The support set labels are : {} and their shape : {} \\n'\\\n",
    "      .format(episode[1], episode[1].shape))\n",
    "\n",
    "print('The support set original labels in the dataset from which' +\n",
    "        ' they are sampled : {} and shape : {}\\n'\\\n",
    "       .format(episode[2], episode[2].shape))\n",
    "print('#'*70)\n",
    "print('\\nThe query set images are of the following shape : {} \\n'\\\n",
    "      .format(episode[3].shape))\n",
    "print('The query set labels shape is : {} \\n'\\\n",
    "      .format(episode[4].shape))\n",
    "\n",
    "print('The query set original labels shape in the dataset from which' +\n",
    "        ' they are sampled is : {} \\n'\\\n",
    "       .format(episode[5].shape))"
   ]
  },
  {
   "cell_type": "code",
   "execution_count": 32,
   "metadata": {},
   "outputs": [
    {
     "name": "stderr",
     "output_type": "stream",
     "text": [
      "WARNING:matplotlib.image:Clipping input data to the valid range for imshow with RGB data ([0..1] for floats or [0..255] for integers).\n"
     ]
    },
    {
     "data": {
      "image/png": "[encoded data removed]",
      "text/plain": [
       "<Figure size 288x288 with 1 Axes>"
      ]
     },
     "metadata": {
      "needs_background": "light"
     },
     "output_type": "display_data"
    }
   ],
   "source": [
    "plt.matshow(episode[0][0])\n",
    "plt.show()"
   ]
  },
  {
   "cell_type": "code",
   "execution_count": 8,
   "metadata": {},
   "outputs": [
    {
     "data": {
      "image/png": "[encoded data removed]",
      "text/plain": [
       "<Figure size 432x288 with 1 Axes>"
      ]
     },
     "metadata": {
      "needs_background": "light"
     },
     "output_type": "display_data"
    }
   ],
   "source": [
    "plt.hist(episode[0][0].reshape(28*3,28))\n",
    "plt.show()"
   ]
  },
  {
   "cell_type": "code",
   "execution_count": 9,
   "metadata": {},
   "outputs": [
    {
     "data": {
      "text/plain": [
       "<matplotlib.image.AxesImage at 0x7f72b5c80710>"
      ]
     },
     "execution_count": 9,
     "metadata": {},
     "output_type": "execute_result"
    },
    {
     "data": {
      "image/png": "[encoded data removed]",
      "text/plain": [
       "<Figure size 288x288 with 1 Axes>"
      ]
     },
     "metadata": {
      "needs_background": "light"
     },
     "output_type": "display_data"
    }
   ],
   "source": [
    "plt.matshow(episode[0][0][:,:,0]>0.9)"
   ]
  },
  {
   "cell_type": "code",
   "execution_count": 12,
   "metadata": {},
   "outputs": [],
   "source": [
    "import copy"
   ]
  },
  {
   "cell_type": "code",
   "execution_count": 110,
   "metadata": {},
   "outputs": [],
   "source": [
    "class sentive_neuron_helper():\n",
    "    def __init__(self):\n",
    "        self.init_matrix = []\n",
    "        self.init_matrix.append( np.array([[1, 0, -1],[1, 0, -1],[1, 0, -1]]))\n",
    "        self.init_matrix.append( np.array([[1, 1, 1],[0, 0, 0],[-1, -1, -1]]))\n",
    "        self.init_matrix.append( np.array([[1, 1, 0],[1, 0, -1],[0, -1, -1]]))\n",
    "        self.init_matrix.append( np.array([[0, -1, -1],[1, 0, -1],[1, 1, 0]]))\n",
    "        \n",
    "        self.dir_matrix =  np.array([[1, 1, 1],[1, 0, 1],[1, 1, 1]])\n",
    "        \n",
    "        self.ok_conf = []\n",
    "        self.ok_conf.append( np.array([[1, 0, -1],[0, 1, 0],[0, 0, 0]]))\n",
    "        self.ok_conf.append( np.array([[1, 0, 0],[0, 1, -1],[0, 0, 0]]))\n",
    "        self.ok_conf.append( np.array([[1, 0, 0],[0, 1, 0],[0, 0, -1]]))\n",
    "        \n",
    "        self.ok_conf.append( np.array([[0, 0, -1],[1, 1, 0],[0, 0, 0]]))\n",
    "        self.ok_conf.append( np.array([[0, 0, 0],[1, 1, -1],[0, 0, 0]]))\n",
    "        self.ok_conf.append( np.array([[0, 0, 0],[1, 1, 0],[0, 0, -1]]))\n",
    "        \n",
    "        self.ok_conf.append( np.array([[0, 0, -1],[0, 1, 0],[1, 0, 0]]))\n",
    "        self.ok_conf.append( np.array([[0, 0, 0],[0, 1, -1],[1, 0, 0]]))\n",
    "        self.ok_conf.append( np.array([[0, 0, 0],[0, 1, 0],[1, 0, -1]]))\n",
    "        \n",
    "        self.ok_conf.append( np.array([[0, 0, 1],[0, 1, 0],[0, 0, -1]]))\n",
    "        self.ok_conf.append( np.array([[0, 1, 0],[0, 1, 0],[0, 0, -1]]))\n",
    "        \n",
    "        self.ok_conf.append( np.array([[1, 0, 0],[0, 1, 0],[0, -1, 0]]))\n",
    "        self.ok_conf.append( np.array([[0, 1, 0],[0, 1, 0],[0, -1, 0]]))\n",
    "        \n",
    "        self.ok_conf.append( np.array([[1, 0, 0],[0, 1, 0],[-1, 0, 0]]))\n",
    "        self.ok_conf.append( np.array([[0, 1, 0],[0, 1, 0],[-1, 0, 0]]))\n",
    "        \n",
    "        \n",
    "    def FctIterMean(self, Nb_activations, NewAct, avgValue):\n",
    "        Nb_activations = int(Nb_activations)\n",
    "        NewAct = float(NewAct)\n",
    "        avgValue = float(avgValue)\n",
    "        return ((Nb_activations - 1) / Nb_activations\n",
    "                * avgValue + NewAct / Nb_activations)\n",
    "    \n",
    "    \n",
    "    def get_x_matrix(self, size):\n",
    "        size = int(size)\n",
    "        if size>=2:\n",
    "            output = np.array([np.arange(size),np.arange(size)])\n",
    "        else:\n",
    "            return np.array(np.arange(size))\n",
    "        for i in range(2,size):\n",
    "            output = np.append(output,[np.arange(size)],axis=0)\n",
    "        return output\n",
    "\n",
    "    \n",
    "    def get_y_matrix(self, size):\n",
    "        size = int(size)\n",
    "        if size>=2:\n",
    "            output = np.array([np.ones(size)*0,np.ones(size)*1])\n",
    "        else:\n",
    "            return np.array(np.arange(size))\n",
    "        for i in range(2,size):\n",
    "            output = np.append(output,[np.ones(size)*i],axis=0)\n",
    "        return output\n",
    "    \n",
    "    def get_matrix_center(self, size):\n",
    "        return np.floor(size/2)\n",
    "\n",
    "    \n",
    "    def get_receptive_field(self, local_neuron, current_vision):\n",
    "        \"\"\"\n",
    "            {'center': {'x': 11, 'y': 7},\n",
    "             'matrix_width': 3,\n",
    "             'local_tip_1': {'x': 0, 'y': 1.0},\n",
    "             'local_tip_2': {'x': 2.0, 'y': 0},\n",
    "             'axes_symétrie': [0, 3]}\n",
    "        \"\"\"\n",
    "        min_val_y = int(local_neuron[\"meta\"][\"center\"][\"y\"] - np.floor(\n",
    "                                                local_neuron[\"meta\"][\"matrix_width\"]/2))\n",
    "        max_val_y = int(local_neuron[\"meta\"][\"center\"][\"y\"] + np.ceil(\n",
    "                                                local_neuron[\"meta\"][\"matrix_width\"]/2))\n",
    "        min_val_x = int(local_neuron[\"meta\"][\"center\"][\"x\"] - np.floor(\n",
    "                                                local_neuron[\"meta\"][\"matrix_width\"]/2))\n",
    "        max_val_x = int(local_neuron[\"meta\"][\"center\"][\"x\"] + np.ceil(\n",
    "                                                local_neuron[\"meta\"][\"matrix_width\"]/2))\n",
    "        return current_vision[min_val_y:max_val_y, min_val_x:max_val_x, 0]\n",
    "    \n",
    "\n",
    "    def get_all_center_fields(self, list_neurons, current_vision):\n",
    "        \"\"\"\n",
    "            Retourne l'image avec les centres des neurones surlignés\n",
    "            Pour l'ensemble des neurones\n",
    "        \"\"\"\n",
    "        nb = 0\n",
    "        for sent_neuron in list_neurons:\n",
    "            neuron = sent_neuron.neuron[\"meta\"]\n",
    "            current_vision[neuron[\"center\"][\"y\"],neuron[\"center\"][\"x\"]] = 5 #* current_vision[neuron[\"center\"][\"y\"],neuron[\"center\"][\"x\"]]\n",
    "            nb += 1\n",
    "        print(nb,\"neurons\")\n",
    "        return current_vision\n",
    "    \n",
    "    \n",
    "    def get_all_center_fields_width(self, list_neurons, current_vision, lint_width=5):\n",
    "        \"\"\"\n",
    "            Retourne l'image avec les centres des neurones surlignés\n",
    "            Il faut spécifier la couche des neurones sélectionnés\n",
    "        \"\"\"\n",
    "        nb = 0\n",
    "        for sent_neuron in list_neurons:\n",
    "            neuron = sent_neuron.neuron[\"meta\"]\n",
    "            if neuron[\"matrix_width\"] == lint_width:\n",
    "                current_vision[neuron[\"center\"][\"y\"],neuron[\"center\"][\"x\"]] = 5 #* current_vision[neuron[\"center\"][\"y\"],neuron[\"center\"][\"x\"]]\n",
    "                nb += 1\n",
    "        print(nb,\"neurons\")\n",
    "        return current_vision\n",
    "\n",
    "    \n",
    "    def get_neuron_receptive_field(self, neurons_pool, current_vision, nrn_id):\n",
    "        # récupère le neurone visé\n",
    "        crnt_nrn = self.get_neuron_from_id(neurons_pool, nrn_id)\n",
    "        # récupère la liste des \n",
    "        try:\n",
    "            lst_nrn = crnt_nrn[\"meta\"][\"field_list\"]\n",
    "        except KeyError:\n",
    "            lst_nrn = crnt_nrn[\"DbConnectivity\"][\"pre_synaptique\"]\n",
    "        \n",
    "        # récupère le neurone pour chaque id de la liste\n",
    "        for sensor_id in lst_nrn:\n",
    "            neuron = self.get_neuron_from_id(neurons_pool, sensor_id)\n",
    "            current_vision[neuron[\"meta\"][\"center\"][\"y\"],neuron[\"meta\"][\"center\"][\"x\"]] = 5\n",
    "        return current_vision\n",
    "    \n",
    "    \n",
    "    def update_coord(self, previous):\n",
    "        \"\"\"\n",
    "            lorsqu'on augmente la taille de la matrice de +2\n",
    "            Toutes les coordonnées relatives à la taille précédente doivent être modifiées grace \n",
    "            à cette fonction.\n",
    "        \"\"\"\n",
    "        previous[\"x\"] += 1\n",
    "        previous[\"y\"] += 1\n",
    "        return previous\n",
    "    \n",
    "    \n",
    "    def rotate_vector(self, vector, angle_rotation):\n",
    "        output_vector = {\n",
    "            \"x\":0,\n",
    "            \"y\":0\n",
    "        }\n",
    "        output_vector[\"x\"] = np.around(vector[\"x\"] * np.cos(angle_rotation) - vector[\"y\"] * np.sin(angle_rotation))\n",
    "        output_vector[\"y\"] = np.around(vector[\"x\"] * np.sin(angle_rotation) + vector[\"y\"] * np.cos(angle_rotation))\n",
    "        return output_vector\n",
    "    \n",
    "    def anti_rotate_vector(self, vector, angle_rotation):\n",
    "        output_vector = {\n",
    "            \"x\":0,\n",
    "            \"y\":0\n",
    "        }\n",
    "        output_vector[\"x\"] = np.around(vector[\"x\"] * np.cos(angle_rotation) + vector[\"y\"] * np.sin(angle_rotation))\n",
    "        output_vector[\"y\"] = np.around(vector[\"y\"] * np.cos(angle_rotation) - vector[\"x\"] * np.sin(angle_rotation))\n",
    "        return output_vector\n",
    "    \n",
    "    def get_pos_from_id(self, neurons_pool, neuron_idx2):\n",
    "        \"\"\"\n",
    "            retourn la position dans la tableau à partir du neuron_id\n",
    "        \"\"\"\n",
    "        for neuron_idx in range(len(neurons_pool)):\n",
    "            if neurons_pool[neuron_idx].neuron[\"_id\"]==neuron_idx2:\n",
    "                break\n",
    "        return neuron_idx\n",
    "    \n",
    "    def get_neuron_from_id(self, neurons_pool, neuron_idx2):\n",
    "        \"\"\"\n",
    "            retourne le neurone à partir de son neuron_id \"_id\"\n",
    "        \"\"\"\n",
    "        for neuron_idx in range(len(neurons_pool)):\n",
    "            if neurons_pool[neuron_idx].neuron[\"_id\"]==neuron_idx2:\n",
    "                break\n",
    "        return neurons_pool[neuron_idx].neuron\n",
    "    \n",
    "    def get_avg_center(self, neurons_pool, list_neuron_ids):\n",
    "        \"\"\"\n",
    "            retourne la moyenne des centres à partir des neurones_id passés en paramètres\n",
    "        \"\"\"\n",
    "        \n",
    "        list_x = []\n",
    "        list_y = []\n",
    "        output={\n",
    "            \"x\":0,\n",
    "            \"y\":0\n",
    "        }\n",
    "        for int_id in list_neuron_ids:\n",
    "            current_neuron = self.get_neuron_from_id(neurons_pool, int_id)\n",
    "            list_x.append(current_neuron[\"meta\"][\"center\"][\"x\"])\n",
    "            list_y.append(current_neuron[\"meta\"][\"center\"][\"y\"])\n",
    "        output[\"x\"]=int(np.round(np.mean(list_x)))\n",
    "        output[\"y\"]=int(np.round(np.mean(list_y)))\n",
    "        return output\n",
    "\n",
    "class sentive_neuron(object):\n",
    "    \"\"\"\n",
    "        prototypde de données des objets neurones\n",
    "        Cette classe ne contient aucune fonction mais ne sert qu'à conserver les données\n",
    "        Les fonctions sont dans une autre classe.\n",
    "    \"\"\"\n",
    "    def __init__(self, number):\n",
    "        self.number = number\n",
    "        self.neuron = {\n",
    "            \"_id\":0,\n",
    "            \"schema_version\":2,\n",
    "            \"type\": \"sentive_vision_arcs\",\n",
    "            \"DbConnectivity\":{\n",
    "                \"pre_synaptique\":[],\n",
    "                \"post_synaptique\":[]\n",
    "            },\n",
    "            \"meta\":{\n",
    "                \"mode\": \"croissance\",\n",
    "                \"center\":{\n",
    "                    \"x\":0,\n",
    "                    \"y\":0\n",
    "                },\n",
    "                \"matrix_width\":1,\n",
    "                \"local_tip_1\":{\n",
    "                    \"x\":0,\n",
    "                    \"y\":0\n",
    "                },\n",
    "                \"vector_1\":{\n",
    "                    \"x\":0,\n",
    "                    \"y\":0\n",
    "                },\n",
    "                \"local_tip_2\":{\n",
    "                    \"x\":0,\n",
    "                    \"y\":0\n",
    "                },\n",
    "                \"vector_2\":{\n",
    "                    \"x\":0,\n",
    "                    \"y\":0\n",
    "                },\n",
    "                \"axes_symétrie\":[],\n",
    "                \"angle\":-999,\n",
    "                \"std_angle\":-1,\n",
    "                \"iteration_n\":0\n",
    "            }\n",
    "        }"
   ]
  },
  {
   "cell_type": "code",
   "execution_count": 111,
   "metadata": {},
   "outputs": [],
   "source": [
    "toto = sentive_neuron_helper()"
   ]
  },
  {
   "cell_type": "code",
   "execution_count": 243,
   "metadata": {},
   "outputs": [
    {
     "name": "stdout",
     "output_type": "stream",
     "text": [
      "nombre de neurones taille 1: 29\n",
      "**************************************** \n",
      "\n",
      "\n",
      "nombre de neurones couche 1 & 2, tailles 1 & 3: 79\n",
      "****************************************\n",
      "\n",
      "nombre Total de neurones (1, 3 & 5) 129\n",
      "****************************************\n",
      "\n",
      "nombre Total de neurones (3, 7, 9) 136\n",
      "****************************************\n"
     ]
    }
   ],
   "source": [
    "# meta parameters\n",
    "SEUIL = 0.5\n",
    "SEUIL_EXTRA = -0.8\n",
    "MAX_IMG_SIZE = 28\n",
    "\n",
    "# end metaparameters\n",
    "\n",
    "# nb est le premier identifiant pour créer les neurones\n",
    "nb = 0\n",
    "# liste contenant tous les neurones : pool_vision\n",
    "pool_vision = []\n",
    "\n",
    "\n",
    "##################################################\n",
    " ######## NEURONES DE LA COUCHE 1 (t_1) #########\n",
    "##################################################\n",
    "# Crée un neurone par pixel au début:\n",
    "for y in range(1,MAX_IMG_SIZE-1):\n",
    "    for x in range(1,MAX_IMG_SIZE-1):\n",
    "        if episode[0][0][y][x][0]>0:\n",
    "            pool_vision.append(sentive_neuron(nb))\n",
    "            pool_vision[nb].neuron[\"_id\"]=nb\n",
    "            pool_vision[nb].neuron[\"meta\"][\"center\"][\"x\"] = x\n",
    "            pool_vision[nb].neuron[\"meta\"][\"center\"][\"y\"] = y\n",
    "            pool_vision[nb].neuron[\"meta\"][\"matrix_width\"] = 1\n",
    "            nb += 1\n",
    "print(\"nombre de neurones taille 1:\",len(pool_vision))\n",
    "print(\"*\"*40,\"\\n\")\n",
    "\n",
    "# fonctions utilitaires\n",
    "neuron_tools = sentive_neuron_helper()\n",
    "\n",
    "# liste des neurones à supprimer\n",
    "pop_list = []\n",
    "\n",
    "\n",
    "##################################################\n",
    "########## NEURONES DE LA COUCHE 2 (t_3) #########\n",
    "##################################################\n",
    "for neuron_idx in range(len(pool_vision)):\n",
    "    can_be_deleted = True\n",
    "    # position du centre du neurone\n",
    "    x = pool_vision[neuron_idx].neuron[\"meta\"][\"center\"][\"x\"]\n",
    "    y = pool_vision[neuron_idx].neuron[\"meta\"][\"center\"][\"y\"]\n",
    "    sub_matrix = episode[0][0][y-1:y+2, x-1:x+2, 0]\n",
    "    \n",
    "    for ok_idx in range(len(neuron_tools.ok_conf)):\n",
    "        # s'il n'y a pas de pixels en dehors de l'axe de symétrie, y a rien à calculer.\n",
    "        trois_mtrx = np.multiply(sub_matrix>SEUIL, neuron_tools.ok_conf[ok_idx])\n",
    "        if np.sum(np.abs(trois_mtrx))==3:\n",
    "            #####################################\n",
    "            # crée un nouveau neurone de taille 3\n",
    "            pool_vision.append(sentive_neuron(nb))\n",
    "            pool_vision[nb].neuron[\"_id\"]=nb\n",
    "            pool_vision[nb].neuron[\"meta\"][\"center\"][\"x\"] = x\n",
    "            pool_vision[nb].neuron[\"meta\"][\"center\"][\"y\"] = y\n",
    "            pool_vision[nb].neuron[\"meta\"][\"matrix_width\"] = 3\n",
    "            \n",
    "            \n",
    "            ###########################\n",
    "            # Détermine les extrémités\n",
    "            # retire le pixel central\n",
    "            sub_result = np.multiply(trois_mtrx, neuron_tools.dir_matrix)\n",
    "            #######\n",
    "            # d'un côté de l'axe (valeurs positives)\n",
    "            tmp_coord = np.trim_zeros(np.multiply(sub_result>0,neuron_tools.get_y_matrix(3)).ravel())\n",
    "            if len(tmp_coord)>0:\n",
    "                pool_vision[nb].neuron[\"meta\"][\"local_tip_1\"][\"y\"] = np.mean(tmp_coord)\n",
    "            tmp_coord = np.trim_zeros(np.multiply(sub_result>0,neuron_tools.get_x_matrix(3)).ravel())\n",
    "            if len(tmp_coord)>0:\n",
    "                pool_vision[nb].neuron[\"meta\"][\"local_tip_1\"][\"x\"] = np.mean(tmp_coord)\n",
    "            ##\n",
    "            # calcul des vecteurs directeurs\n",
    "            pool_vision[nb].neuron[\"meta\"][\"vector_1\"][\"y\"] = pool_vision[nb].neuron[\"meta\"][\"local_tip_1\"][\"y\"] - neuron_tools.get_matrix_center(pool_vision[nb].neuron[\"meta\"][\"matrix_width\"])\n",
    "            pool_vision[nb].neuron[\"meta\"][\"vector_1\"][\"x\"] = pool_vision[nb].neuron[\"meta\"][\"local_tip_1\"][\"x\"] - neuron_tools.get_matrix_center(pool_vision[nb].neuron[\"meta\"][\"matrix_width\"])\n",
    "            \n",
    "            \n",
    "            #######\n",
    "            # les pixels de l'autre côté de l'axe les valeurs sont négatives\n",
    "            tmp_coord = np.trim_zeros(np.multiply(sub_result<0,neuron_tools.get_y_matrix(3)).ravel())\n",
    "            if len(tmp_coord)>0: \n",
    "                pool_vision[nb].neuron[\"meta\"][\"local_tip_2\"][\"y\"] = np.mean(tmp_coord)\n",
    "            tmp_coord = np.trim_zeros(np.multiply(sub_result<0,neuron_tools.get_x_matrix(3)).ravel())\n",
    "            if len(tmp_coord)>0:\n",
    "                pool_vision[nb].neuron[\"meta\"][\"local_tip_2\"][\"x\"] = np.mean(tmp_coord)\n",
    "            ##\n",
    "            # calcul des vecteurs directeurs \n",
    "            pool_vision[nb].neuron[\"meta\"][\"vector_2\"][\"y\"] = pool_vision[nb].neuron[\"meta\"][\"local_tip_2\"][\"y\"] - neuron_tools.get_matrix_center(pool_vision[nb].neuron[\"meta\"][\"matrix_width\"])\n",
    "            pool_vision[nb].neuron[\"meta\"][\"vector_2\"][\"x\"] = pool_vision[nb].neuron[\"meta\"][\"local_tip_2\"][\"x\"] - neuron_tools.get_matrix_center(pool_vision[nb].neuron[\"meta\"][\"matrix_width\"])\n",
    "            \n",
    "            #######\n",
    "            # calcul de l'angle pour la rotation\n",
    "            np_c_1 = np.array([-pool_vision[nb].neuron[\"meta\"][\"vector_1\"][\"x\"], -pool_vision[nb].neuron[\"meta\"][\"vector_1\"][\"y\"]])\n",
    "            np_c_2 = np.array([pool_vision[nb].neuron[\"meta\"][\"vector_2\"][\"x\"], pool_vision[nb].neuron[\"meta\"][\"vector_2\"][\"y\"]])\n",
    "\n",
    "            pool_vision[nb].neuron[\"meta\"][\"angle\"] = np.arccos(np.sum(np.multiply(np_c_1,np_c_2))/(np.sqrt(np.sum(np.power(np_c_1,2)))*np.sqrt(np.sum(np.power(np_c_2,2)))))\n",
    "\n",
    "            #######\n",
    "            \n",
    "            nb += 1  \n",
    "    \n",
    "print(\"\\nnombre de neurones couche 1 & 2, tailles 1 & 3:\",len(pool_vision))\n",
    "print(\"*\"*40)\n",
    "\n",
    "\n",
    "###################################################\n",
    "  ####### NEURONES DE LA COUCHE 3 (t_7) #########\n",
    "###################################################\n",
    "\n",
    "int_nb_neurones = len(pool_vision)\n",
    "int_nb_neurones_init = len(pool_vision)\n",
    "\n",
    "for neuron_idx in range(len(pool_vision)):\n",
    "    if pool_vision[neuron_idx].neuron[\"meta\"][\"matrix_width\"]==3:\n",
    "        lblDebug = False\n",
    "        # Création du neurone de seconde couche\n",
    "        pool_vision.append(sentive_neuron(nb))\n",
    "        pool_vision[int_nb_neurones].neuron[\"_id\"]=nb\n",
    "\n",
    "        pool_vision[int_nb_neurones].neuron[\"DbConnectivity\"][\"pre_synaptique\"].append(pool_vision[neuron_idx].neuron[\"_id\"])\n",
    "        pool_vision[int_nb_neurones].neuron[\"meta\"][\"matrix_width\"]=5\n",
    "        lblAdded = False\n",
    "\n",
    "        # Il se connecte aux neurones qui pointe réciproquement\n",
    "        #if pool_vision[neuron_idx].neuron[\"_id\"]==39:\n",
    "            # décommenter la ligne de dessous si on veut des information verbose\n",
    "            # lblDebug = True\n",
    "            # print(\"neuron39\",pool_vision[neuron_idx].neuron)\n",
    "\n",
    "        # Vérification des coordonnées\n",
    "        int_x = pool_vision[neuron_idx].neuron[\"meta\"][\"center\"][\"x\"]+pool_vision[neuron_idx].neuron[\"meta\"][\"vector_1\"][\"x\"]\n",
    "        int_y = pool_vision[neuron_idx].neuron[\"meta\"][\"center\"][\"y\"]+pool_vision[neuron_idx].neuron[\"meta\"][\"vector_1\"][\"y\"]\n",
    "\n",
    "        if lblDebug:\n",
    "            print(\"vecteur 1 int_x\",int_x,\"int_y\",int_y)\n",
    "\n",
    "        for neuron_idx2 in range(int_nb_neurones_init):\n",
    "            if pool_vision[neuron_idx2].neuron[\"meta\"][\"matrix_width\"]==3:\n",
    "                # Si le neurone en cours pointe vers ce neurone alors je vais surement l'ajouter\n",
    "                if pool_vision[neuron_idx2].neuron[\"_id\"] != pool_vision[neuron_idx].neuron[\"_id\"]:\n",
    "                    if pool_vision[neuron_idx2].neuron[\"meta\"][\"center\"][\"x\"]==int_x and pool_vision[neuron_idx2].neuron[\"meta\"][\"center\"][\"y\"]==int_y:\n",
    "                        # Je dois d'abord vérifie que ce second neurone pointe vers le premier\n",
    "                        int_x2 = pool_vision[neuron_idx2].neuron[\"meta\"][\"center\"][\"x\"]+pool_vision[neuron_idx2].neuron[\"meta\"][\"vector_1\"][\"x\"]\n",
    "                        int_y2 = pool_vision[neuron_idx2].neuron[\"meta\"][\"center\"][\"y\"]+pool_vision[neuron_idx2].neuron[\"meta\"][\"vector_1\"][\"y\"]\n",
    "                        if lblDebug:\n",
    "                            print(\"neuron \",pool_vision[neuron_idx2].neuron[\"_id\"],\"vecteur 1 int_x2\",int_x2,\"int_y2\",int_y2)\n",
    "                            print(\"neuron \",pool_vision[neuron_idx2].neuron[\"_id\"],pool_vision[neuron_idx2].neuron[\"meta\"][\"center\"],\"vecteur\",pool_vision[neuron_idx2].neuron[\"meta\"][\"vector_1\"])\n",
    "                            print(pool_vision[neuron_idx2].neuron)\n",
    "                        if pool_vision[neuron_idx].neuron[\"meta\"][\"center\"][\"x\"]==int_x2 and pool_vision[neuron_idx].neuron[\"meta\"][\"center\"][\"y\"]==int_y2:\n",
    "\n",
    "                            # Ajoute un lien avec ce neurone\n",
    "                            pool_vision[int_nb_neurones].neuron[\"DbConnectivity\"][\"pre_synaptique\"].append(pool_vision[neuron_idx2].neuron[\"_id\"])\n",
    "                            pool_vision[neuron_idx2].neuron[\"DbConnectivity\"][\"post_synaptique\"].append(nb)\n",
    "                            if lblDebug:\n",
    "                                print(\"Neurone Added\")\n",
    "                            lblAdded = True\n",
    "                            break \n",
    "                        else:\n",
    "                            int_x2 = pool_vision[neuron_idx2].neuron[\"meta\"][\"center\"][\"x\"]+pool_vision[neuron_idx2].neuron[\"meta\"][\"vector_2\"][\"x\"]\n",
    "                            int_y2 = pool_vision[neuron_idx2].neuron[\"meta\"][\"center\"][\"y\"]+pool_vision[neuron_idx2].neuron[\"meta\"][\"vector_2\"][\"y\"]\n",
    "                            if lblDebug:\n",
    "                                print(\"neuron \",pool_vision[neuron_idx2].neuron[\"_id\"],\"vecteur 2 int_x2\",int_x2,\"int_y2\",int_y2)\n",
    "\n",
    "                            if pool_vision[neuron_idx].neuron[\"meta\"][\"center\"][\"x\"]==int_x2 and pool_vision[neuron_idx].neuron[\"meta\"][\"center\"][\"y\"]==int_y2:\n",
    "                                # Ajoute un lien avec ce neurone\n",
    "                                if lblDebug:\n",
    "                                    print(\"Neurone Added\")\n",
    "                                pool_vision[int_nb_neurones].neuron[\"DbConnectivity\"][\"pre_synaptique\"].append(pool_vision[neuron_idx2].neuron[\"_id\"])\n",
    "                                pool_vision[neuron_idx2].neuron[\"DbConnectivity\"][\"post_synaptique\"].append(nb)\n",
    "                                lblAdded = True\n",
    "                                break\n",
    "\n",
    "        # Vérification des coordonnées\n",
    "        int_x = pool_vision[neuron_idx].neuron[\"meta\"][\"center\"][\"x\"]+pool_vision[neuron_idx].neuron[\"meta\"][\"vector_2\"][\"x\"]\n",
    "        int_y = pool_vision[neuron_idx].neuron[\"meta\"][\"center\"][\"y\"]+pool_vision[neuron_idx].neuron[\"meta\"][\"vector_2\"][\"y\"]\n",
    "        if lblDebug:\n",
    "            print(\"vecteur 2 int_x\",int_x,\"int_y\",int_y)\n",
    "        for neuron_idx2 in range(int_nb_neurones_init):\n",
    "            if pool_vision[neuron_idx2].neuron[\"meta\"][\"matrix_width\"]==3:\n",
    "                if pool_vision[neuron_idx2].neuron[\"_id\"] != pool_vision[neuron_idx].neuron[\"_id\"]:\n",
    "                    if pool_vision[neuron_idx2].neuron[\"meta\"][\"center\"][\"x\"]==int_x and pool_vision[neuron_idx2].neuron[\"meta\"][\"center\"][\"y\"]==int_y:\n",
    "                        # Je dois d'abord vérifie que ce second neurone pointe vers le premier\n",
    "                        int_x2 = pool_vision[neuron_idx2].neuron[\"meta\"][\"center\"][\"x\"]+pool_vision[neuron_idx2].neuron[\"meta\"][\"vector_1\"][\"x\"]\n",
    "                        int_y2 = pool_vision[neuron_idx2].neuron[\"meta\"][\"center\"][\"y\"]+pool_vision[neuron_idx2].neuron[\"meta\"][\"vector_1\"][\"y\"]\n",
    "                        if lblDebug:\n",
    "                            print(\"neuron \",pool_vision[neuron_idx2].neuron[\"_id\"],\"vecteur 1 int_x2\",int_x2,\"int_y2\",int_y2)\n",
    "                            print(pool_vision[neuron_idx2].neuron)\n",
    "                        if pool_vision[neuron_idx].neuron[\"meta\"][\"center\"][\"x\"]==int_x2 and pool_vision[neuron_idx].neuron[\"meta\"][\"center\"][\"y\"]==int_y2:\n",
    "                            # Ajoute un lien avec ce neurone\n",
    "                            pool_vision[int_nb_neurones].neuron[\"DbConnectivity\"][\"pre_synaptique\"].append(pool_vision[neuron_idx2].neuron[\"_id\"])\n",
    "                            pool_vision[neuron_idx2].neuron[\"DbConnectivity\"][\"post_synaptique\"].append(nb)\n",
    "                            lblAdded = True\n",
    "                            if lblDebug:\n",
    "                                print(\"Neurone Added\")\n",
    "                            break\n",
    "                        else:\n",
    "                            int_x2 = pool_vision[neuron_idx2].neuron[\"meta\"][\"center\"][\"x\"]+pool_vision[neuron_idx2].neuron[\"meta\"][\"vector_2\"][\"x\"]\n",
    "                            int_y2 = pool_vision[neuron_idx2].neuron[\"meta\"][\"center\"][\"y\"]+pool_vision[neuron_idx2].neuron[\"meta\"][\"vector_2\"][\"y\"]\n",
    "                            if lblDebug:\n",
    "                                print(\"neuron \",pool_vision[neuron_idx2].neuron[\"_id\"],\"vecteur 2 int_x2\",int_x2,\"int_y2\",int_y2)\n",
    "                            if pool_vision[neuron_idx].neuron[\"meta\"][\"center\"][\"x\"]==int_x2 and pool_vision[neuron_idx].neuron[\"meta\"][\"center\"][\"y\"]==int_y2:\n",
    "                                # Ajoute un lien avec ce neurone\n",
    "                                if lblDebug:\n",
    "                                    print(\"Neurone Added\")\n",
    "                                pool_vision[int_nb_neurones].neuron[\"DbConnectivity\"][\"pre_synaptique\"].append(pool_vision[neuron_idx2].neuron[\"_id\"])\n",
    "                                pool_vision[neuron_idx2].neuron[\"DbConnectivity\"][\"post_synaptique\"].append(nb)\n",
    "                                lblAdded = True\n",
    "                                break\n",
    "        if lblAdded:\n",
    "            pool_vision[neuron_idx].neuron[\"DbConnectivity\"][\"post_synaptique\"].append(nb)\n",
    "            pool_vision[int_nb_neurones].neuron[\"meta\"][\"center\"]=pool_vision[neuron_idx].neuron[\"meta\"][\"center\"]\n",
    "            pool_vision[int_nb_neurones].neuron[\"meta\"][\"iteration_n\"]=2\n",
    "\n",
    "        nb += 1\n",
    "        int_nb_neurones+=1\n",
    "    \n",
    "for neuron_idx in range(len(pool_vision)-1,0,-1):\n",
    "    if len(pool_vision[neuron_idx].neuron[\"DbConnectivity\"][\"pre_synaptique\"])<2 and pool_vision[neuron_idx].neuron[\"meta\"][\"matrix_width\"]==5:\n",
    "        pool_vision.pop(neuron_idx)\n",
    "            \n",
    "print(\"\\nnombre Total de neurones (1, 3 & 5)\",len(pool_vision))\n",
    "print(\"*\"*40)\n",
    "\n",
    "for neuron_idx in range(len(pool_vision)):\n",
    "    neuron = pool_vision[neuron_idx].neuron\n",
    "    if len(neuron[\"DbConnectivity\"][\"pre_synaptique\"])>0:\n",
    "        l_flt_angles = []\n",
    "        l_flt_vector1X = []\n",
    "        l_flt_vector1Y = []\n",
    "        l_flt_vector2X = []\n",
    "        l_flt_vector2Y = []\n",
    "        l_flt_tip1X = []\n",
    "        l_flt_tip1Y = []\n",
    "        l_flt_tip2X = []\n",
    "        l_flt_tip2Y = []\n",
    "        for elmt in neuron[\"DbConnectivity\"][\"pre_synaptique\"]:\n",
    "            extract = neuron_tools.get_neuron_from_id(pool_vision, elmt)\n",
    "            l_flt_angles.append(extract[\"meta\"][\"angle\"])\n",
    "            l_flt_vector1X.append(extract[\"meta\"][\"vector_1\"][\"x\"])\n",
    "            l_flt_vector1Y.append(extract[\"meta\"][\"vector_1\"][\"y\"])\n",
    "            l_flt_vector2X.append(extract[\"meta\"][\"vector_2\"][\"x\"])\n",
    "            l_flt_vector2Y.append(extract[\"meta\"][\"vector_2\"][\"y\"])\n",
    "\n",
    "        neuron[\"meta\"][\"angle\"] = np.mean(l_flt_angles)\n",
    "        neuron[\"meta\"][\"vector_1\"][\"x\"] = np.mean(l_flt_vector1X)\n",
    "        neuron[\"meta\"][\"vector_1\"][\"y\"] = np.mean(l_flt_vector1Y)\n",
    "        neuron[\"meta\"][\"vector_2\"][\"x\"] = np.mean(l_flt_vector2X)\n",
    "        neuron[\"meta\"][\"vector_2\"][\"y\"] = np.mean(l_flt_vector2Y)\n",
    "\n",
    "###################################################\n",
    " ######### NEURONES DE LA COUCHE 4 (t_7) #########\n",
    "###################################################\n",
    "\n",
    "int_max = len(pool_vision)\n",
    "current_neuron_3=''\n",
    "copy_pool_vision = copy.deepcopy(pool_vision)\n",
    "for first in range(int_max):\n",
    "    list_to_delete = []\n",
    "    for neuron_idx in range(len(copy_pool_vision)):\n",
    "        # Parcours les neurones de la couche 2\n",
    "        if copy_pool_vision[neuron_idx].neuron[\"meta\"][\"matrix_width\"]==5:\n",
    "            neuron_2 = copy_pool_vision[neuron_idx].neuron\n",
    "            # S'il n'y a pas de neurone_3 en cours, alors il faut en créer un nouveau\n",
    "            if current_neuron_3=='':\n",
    "                # Création du neurone de troisième couche\n",
    "                pool_vision.append(sentive_neuron(nb))\n",
    "                int_nb_neurones = len(pool_vision)-1\n",
    "                pool_vision[int_nb_neurones].neuron[\"_id\"]=nb\n",
    "                pool_vision[int_nb_neurones].neuron[\"DbConnectivity\"][\"pre_synaptique\"].append(neuron_2[\"_id\"])\n",
    "                current_neuron_3 = pool_vision[int_nb_neurones].neuron\n",
    "                current_neuron_3[\"meta\"][\"matrix_width\"]=7\n",
    "                current_neuron_3[\"meta\"][\"field_list\"]=[]\n",
    "                for n_id in neuron_2[\"DbConnectivity\"][\"pre_synaptique\"]:\n",
    "                    current_neuron_3[\"meta\"][\"field_list\"].append(n_id)\n",
    "                nb+=1\n",
    "                list_to_delete.append(neuron_idx)\n",
    "            else:\n",
    "                # récupère la liste des neurones field list \n",
    "                list1 = current_neuron_3[\"meta\"][\"field_list\"]\n",
    "                #print(\"list1\",list1)\n",
    "                # récupère la liste des neurones pré du neurone 2\n",
    "                list2 = neuron_2[\"DbConnectivity\"][\"pre_synaptique\"]\n",
    "                #print(\"list2\",list2)\n",
    "                if len(list(set(list1).intersection(list2)))>1:\n",
    "                    # Ajoute ce neurone\n",
    "                    current_neuron_3[\"DbConnectivity\"][\"pre_synaptique\"].append(neuron_2[\"_id\"])\n",
    "                    for n_id in neuron_2[\"DbConnectivity\"][\"pre_synaptique\"]:\n",
    "                        current_neuron_3[\"meta\"][\"field_list\"].append(n_id)\n",
    "                    # print(\"add\",neuron_idx)\n",
    "                    list_to_delete.append(neuron_idx)\n",
    "\n",
    "    #print(\"list to delete:\",list_to_delete)\n",
    "    for n_idx in list_to_delete[::-1]:\n",
    "        copy_pool_vision.pop(n_idx)\n",
    "    list_to_delete = []\n",
    "    for neuron_idx in range(len(copy_pool_vision)):\n",
    "        # Parcours les neurones de la couche 3\n",
    "        if copy_pool_vision[neuron_idx].neuron[\"meta\"][\"matrix_width\"]==5:\n",
    "            neuron_2 = copy_pool_vision[neuron_idx].neuron\n",
    "            # S'il n'y a pas de neurone_3 en cours, alors il faut en créer un nouveau\n",
    "            if current_neuron_3!='':\n",
    "                \n",
    "                # récupère la liste des neurones field list \n",
    "                list1 = current_neuron_3[\"meta\"][\"field_list\"]\n",
    "                #print(\"list1\",list1)\n",
    "                # récupère la liste des neurones pré du neurone 2\n",
    "                list2 = neuron_2[\"DbConnectivity\"][\"pre_synaptique\"]\n",
    "                #print(\"list2\",list2)\n",
    "                if len(list(set(list1).intersection(list2)))>1:\n",
    "                    # Ajoute ce neurone\n",
    "                    current_neuron_3[\"DbConnectivity\"][\"pre_synaptique\"].append(neuron_2[\"_id\"])\n",
    "                    for n_id in neuron_2[\"DbConnectivity\"][\"pre_synaptique\"]:\n",
    "                        current_neuron_3[\"meta\"][\"field_list\"].append(n_id)\n",
    "                    # print(\"add\",neuron_idx)\n",
    "                    list_to_delete.append(neuron_idx)\n",
    "\n",
    "    #print(\"list to delete:\",list_to_delete)\n",
    "    current_neuron_3=''\n",
    "    for n_idx in list_to_delete[::-1]:\n",
    "        copy_pool_vision.pop(n_idx)\n",
    "\n",
    "# Retire tous les presyn qui dénotent.\n",
    "        \n",
    "# Retire tous les neurones qui ont seulement 1 presyn ou moins.\n",
    "for i in range(len(pool_vision)-1,0,-1):\n",
    "    if pool_vision[i].neuron[\"meta\"][\"matrix_width\"]==7:\n",
    "        if len(pool_vision[i].neuron[\"DbConnectivity\"][\"pre_synaptique\"])<2:\n",
    "            pool_vision.pop(i)\n",
    "\n",
    "for neuron_idx in range(len(pool_vision)):\n",
    "    if pool_vision[neuron_idx].neuron[\"meta\"][\"matrix_width\"]==7:\n",
    "        crnt_neuron_3 = pool_vision[neuron_idx].neuron\n",
    "        A = crnt_neuron_3[\"meta\"][\"field_list\"]\n",
    "        # retire les doublons\n",
    "        crnt_neuron_3[\"meta\"][\"field_list\"] = list(set(A))\n",
    "        # calcule le centre à partir de la moyenne des centres des neurones input\n",
    "        crnt_neuron_3[\"meta\"][\"center\"] = neuron_tools.get_avg_center(pool_vision, crnt_neuron_3[\"meta\"][\"field_list\"])\n",
    "        # rajoute l'information de connextion aux neurones pré-synaptique pour \n",
    "        # leur indiquer l'id des neurones post-synaptique.\n",
    "        tous_angles = []\n",
    "        tous_id = []\n",
    "        for src_neuron_id in crnt_neuron_3[\"DbConnectivity\"][\"pre_synaptique\"]:\n",
    "            src_neuron_pos = neuron_tools.get_pos_from_id(pool_vision, src_neuron_id)\n",
    "            # print(src_neuron_pos)\n",
    "            pool_vision[src_neuron_pos].neuron[\"DbConnectivity\"][\"post_synaptique\"].append(crnt_neuron_3[\"_id\"])\n",
    "            tous_angles.append(pool_vision[src_neuron_pos].neuron[\"meta\"][\"angle\"])\n",
    "            tous_id.append(pool_vision[src_neuron_pos].neuron[\"_id\"])\n",
    "        # calcule la moyenne des vecteurs ici\n",
    "        \n",
    "        # calcule la moyenne des angles ici\n",
    "        crnt_neuron_3[\"meta\"][\"angle\"] = np.mean(tous_angles)\n",
    "        crnt_neuron_3[\"meta\"][\"std_angle\"] = np.std(tous_angles)\n",
    "        \n",
    "        # Retire les neurones presyn \"hors-norme\"\n",
    "        # print(\"tous_angles\",tous_angles)\n",
    "        for pos_idx in range(len(crnt_neuron_3[\"DbConnectivity\"][\"pre_synaptique\"])-1,-1,-1):\n",
    "            # print(pos_idx)\n",
    "            src_neuron_id = crnt_neuron_3[\"DbConnectivity\"][\"pre_synaptique\"][pos_idx]\n",
    "            if tous_angles[pos_idx]>(crnt_neuron_3[\"meta\"][\"angle\"]+crnt_neuron_3[\"meta\"][\"std_angle\"]) or tous_angles[pos_idx]<(crnt_neuron_3[\"meta\"][\"angle\"]-crnt_neuron_3[\"meta\"][\"std_angle\"]):\n",
    "                # alors supprime le neurone de la liste\n",
    "                tous_angles.pop(pos_idx)\n",
    "                crnt_neuron_3[\"DbConnectivity\"][\"pre_synaptique\"].pop(pos_idx)\n",
    "                # print(src_neuron_id,\"removed from neuron\",crnt_neuron_3[\"_id\"])\n",
    "        # calcule la moyenne des angles ici\n",
    "        crnt_neuron_3[\"meta\"][\"angle\"] = np.mean(tous_angles)\n",
    "        crnt_neuron_3[\"meta\"][\"std_angle\"] = np.std(tous_angles)\n",
    "        \n",
    "        # Retire les neurones presyn \"hors-norme\"\n",
    "        # print(\"tous_angles\",tous_angles)\n",
    "        for pos_idx in range(len(crnt_neuron_3[\"DbConnectivity\"][\"pre_synaptique\"])-1,-1,-1):\n",
    "            # print(pos_idx)\n",
    "            src_neuron_id = crnt_neuron_3[\"DbConnectivity\"][\"pre_synaptique\"][pos_idx]\n",
    "            if tous_angles[pos_idx]>(crnt_neuron_3[\"meta\"][\"angle\"]+crnt_neuron_3[\"meta\"][\"std_angle\"]) or tous_angles[pos_idx]<(crnt_neuron_3[\"meta\"][\"angle\"]-crnt_neuron_3[\"meta\"][\"std_angle\"]):\n",
    "                # alors supprime le neurone de la liste\n",
    "                tous_angles.pop(pos_idx)\n",
    "                crnt_neuron_3[\"DbConnectivity\"][\"pre_synaptique\"].pop(pos_idx)\n",
    "                # print(src_neuron_id,\"removed from neuron\",crnt_neuron_3[\"_id\"])\n",
    "        # calcule la moyenne des angles ici\n",
    "        crnt_neuron_3[\"meta\"][\"angle\"] = np.mean(tous_angles)\n",
    "        crnt_neuron_3[\"meta\"][\"std_angle\"] = np.std(tous_angles)\n",
    "        \n",
    "        \n",
    "        # il faut mettre à jour field_list maintenant\n",
    "        new_field_list = []\n",
    "        for src_neuron_id in crnt_neuron_3[\"DbConnectivity\"][\"pre_synaptique\"]:\n",
    "            src_neuron_pos = neuron_tools.get_pos_from_id(pool_vision, src_neuron_id)\n",
    "            new_field_list.extend(pool_vision[src_neuron_pos].neuron[\"DbConnectivity\"][\"pre_synaptique\"])\n",
    "        crnt_neuron_3[\"meta\"][\"field_list\"] = list(set(new_field_list))\n",
    "        # calcule les extrémités ici\n",
    "\n",
    "# Retire tous les neurones qui ont seulement 1 presyn ou moins.\n",
    "for i in range(len(pool_vision)-1,0,-1):\n",
    "    if pool_vision[i].neuron[\"meta\"][\"matrix_width\"]==7:\n",
    "        if len(pool_vision[i].neuron[\"DbConnectivity\"][\"pre_synaptique\"])<2:\n",
    "            pool_vision.pop(i)\n",
    "            \n",
    "print(\"\\nnombre Total de neurones (3, 7, 9)\",len(pool_vision))\n",
    "print(\"*\"*40)"
   ]
  },
  {
   "cell_type": "code",
   "execution_count": 165,
   "metadata": {},
   "outputs": [
    {
     "name": "stdout",
     "output_type": "stream",
     "text": [
      "5\n",
      "4\n",
      "3\n",
      "2\n",
      "1\n"
     ]
    }
   ],
   "source": [
    "for i in range(5,0,-1):print(i)"
   ]
  },
  {
   "cell_type": "code",
   "execution_count": 14,
   "metadata": {},
   "outputs": [],
   "source": [
    "def show_all_fields(int_id=0, lint_width=-1):\n",
    "    if lint_width ==-1:\n",
    "        all_fields = toto.get_all_center_fields(pool_vision,episode[0][int_id][:,:,0])\n",
    "    else:\n",
    "        all_fields = toto.get_all_center_fields_width(pool_vision,episode[0][int_id][:,:,0],lint_width)\n",
    "    # print(all_fields)\n",
    "    plt.matshow(all_fields)\n",
    "    reset_episode()\n",
    "\n"
   ]
  },
  {
   "cell_type": "code",
   "execution_count": 15,
   "metadata": {},
   "outputs": [],
   "source": [
    "def show_neuron_receptive_field(nrn_id,int_id=0):\n",
    "    rcptv_fields = toto.get_neuron_receptive_field(pool_vision, episode[0][int_id][:,:,0], nrn_id)\n",
    "    # print(rcptv_fields)\n",
    "    plt.matshow(rcptv_fields)\n",
    "    reset_episode()"
   ]
  },
  {
   "cell_type": "code",
   "execution_count": 16,
   "metadata": {},
   "outputs": [],
   "source": [
    "def reset_episode(int_id=0):\n",
    "    episode[0][int_id][:,:,0]=episode[0][int_id][:,:,1]"
   ]
  },
  {
   "cell_type": "code",
   "execution_count": 17,
   "metadata": {},
   "outputs": [],
   "source": [
    "def show_receptive_field(neuron_idx,int_id=0):\n",
    "    # Visualiser le champs récepteur du neurone\n",
    "    current_neuron = pool_vision[neuron_idx].neuron\n",
    "    sub_matrix = toto.get_receptive_field(current_neuron, episode[0][int_id])\n",
    "    print(current_neuron)\n",
    "    plt.matshow(sub_matrix)"
   ]
  },
  {
   "cell_type": "code",
   "execution_count": 18,
   "metadata": {},
   "outputs": [],
   "source": [
    "def show_receptive_field_id(neuron_idx2,int_id=0):\n",
    "    # Visualiser le champs récepteur du neurone\n",
    "    for neuron_idx in range(len(pool_vision)):\n",
    "        if pool_vision[neuron_idx].neuron[\"_id\"]==neuron_idx2:\n",
    "            break\n",
    "    current_neuron = pool_vision[neuron_idx].neuron\n",
    "    sub_matrix = toto.get_receptive_field(current_neuron, episode[0][int_id])\n",
    "    print(current_neuron)\n",
    "    plt.matshow(sub_matrix)"
   ]
  },
  {
   "cell_type": "code",
   "execution_count": 211,
   "metadata": {
    "scrolled": true
   },
   "outputs": [
    {
     "name": "stdout",
     "output_type": "stream",
     "text": [
      "29 : [79, 85] angle: 2.1073424255447017e-08\n",
      "30 : [80] angle: 0.7853981633974484\n",
      "31 : [81, 96] angle: 1.5707963267948966\n",
      "32 : [82] angle: 1.5707963267948966\n",
      "33 : [83, 97] angle: 0.0\n",
      "34 : [84, 87, 90, 93] angle: 0.7853981633974484\n",
      "35 : [79, 80, 81, 85, 98] angle: 2.1073424255447017e-08\n",
      "36 : [86, 87, 88, 89] angle: 0.7853981633974484\n",
      "37 : [84, 86, 87] angle: 0.7853981633974484\n",
      "38 : [88] angle: 0.0\n",
      "39 : [89, 103] angle: 0.7853981633974484\n",
      "40 : [90, 100, 101] angle: 2.1073424255447017e-08\n",
      "41 : [91] angle: 0.7853981633974484\n",
      "42 : [92] angle: 1.5707963267948966\n",
      "43 : [93] angle: 1.5707963267948966\n",
      "44 : [94] angle: 0.7853981633974484\n",
      "45 : [95] angle: 0.7853981633974484\n",
      "46 : [81, 82, 96, 104] angle: 0.7853981633974484\n",
      "47 : [83, 97] angle: 0.0\n",
      "48 : [85, 86, 98, 107, 109] angle: 2.1073424255447017e-08\n",
      "49 : [99, 100] angle: 0.7853981633974484\n",
      "50 : [90, 91, 92, 95, 99, 100] angle: 0.7853981633974484\n",
      "51 : [101, 111] angle: 2.1073424255447017e-08\n",
      "52 : [102] angle: 0.7853981633974484\n",
      "53 : [89, 92, 93, 94, 103, 112] angle: 0.7853981633974484\n",
      "54 : [96, 97, 104] angle: 0.0\n",
      "55 : [105, 107, 108] angle: 0.0\n",
      "56 : [106] angle: 0.7853981633974484\n",
      "57 : [98, 99, 105, 106, 107] angle: 0.7853981633974484\n",
      "58 : [108, 111] angle: 0.0\n",
      "59 : [109, 113, 114] angle: 2.1073424255447017e-08\n",
      "60 : [110] angle: 0.7853981633974484\n",
      "61 : [101, 102, 108, 110, 111] angle: 0.7853981633974484\n",
      "62 : [103, 104, 112, 115] angle: 0.0\n",
      "63 : [109, 110, 113] angle: 1.5707963267948966\n",
      "64 : [114] angle: 0.7853981633974484\n",
      "65 : [112, 115, 116] angle: 0.0\n",
      "66 : [115, 116, 117] angle: 0.0\n",
      "67 : [116, 117, 118] angle: 0.0\n",
      "68 : [117, 118, 119] angle: 0.0\n",
      "69 : [118, 119, 120] angle: 0.0\n",
      "70 : [119, 120, 121] angle: 0.0\n",
      "71 : [120, 121, 122] angle: 0.0\n",
      "72 : [121, 122, 123, 124] angle: 0.0\n",
      "73 : [122, 123, 127, 128] angle: 0.7853981633974484\n",
      "74 : [124, 125, 126] angle: 0.0\n",
      "75 : [124, 125] angle: 0.7853981633974484\n",
      "76 : [126] angle: 0.0\n",
      "77 : [123, 127] angle: 0.7853981633974484\n",
      "78 : [128] angle: 1.5707963267948966\n"
     ]
    }
   ],
   "source": [
    "for item in pool_vision:\n",
    "    if item.neuron[\"meta\"][\"matrix_width\"]==3:\n",
    "        print(item.neuron[\"_id\"],\":\",item.neuron[\"DbConnectivity\"][\"post_synaptique\"], \"angle:\", item.neuron[\"meta\"][\"angle\"])\n"
   ]
  },
  {
   "cell_type": "code",
   "execution_count": 212,
   "metadata": {},
   "outputs": [
    {
     "name": "stdout",
     "output_type": "stream",
     "text": [
      "79 : [29, 35] angle: 2.1073424255447017e-08\n",
      "80 : [30, 35] angle: 0.3926990922354363\n",
      "81 : [31, 35, 46] angle: 0.7853981704219231\n",
      "82 : [32, 46] angle: 1.1780972450961724\n",
      "83 : [33, 47] angle: 0.0\n",
      "84 : [34, 37] angle: 0.7853981633974484\n",
      "85 : [35, 48, 29] angle: 2.1073424255447017e-08\n",
      "86 : [36, 48, 37] angle: 0.5235987826227736\n",
      "87 : [37, 36, 34] angle: 0.7853981633974484\n",
      "88 : [38, 36] angle: 0.3926990816987242\n",
      "89 : [39, 36, 53] angle: 0.7853981633974484\n",
      "90 : [40, 50, 34] angle: 0.5235987826227736\n",
      "91 : [41, 50] angle: 0.7853981633974484\n",
      "92 : [42, 50, 53] angle: 1.0471975511965976\n",
      "93 : [43, 34, 53] angle: 1.0471975511965976\n",
      "94 : [44, 53] angle: 0.7853981633974484\n",
      "95 : [45, 50] angle: 0.7853981633974484\n",
      "96 : [46, 31, 54] angle: 0.7853981633974483\n",
      "97 : [47, 33, 54] angle: 0.0\n",
      "98 : [48, 57, 35] angle: 0.26179940184809897\n",
      "99 : [49, 57, 50] angle: 0.7853981633974484\n",
      "100 : [50, 49, 40] angle: 0.5235987826227737\n",
      "101 : [51, 61, 40] angle: 0.26179940184809897\n",
      "102 : [52, 61] angle: 0.7853981633974484\n",
      "103 : [53, 39, 62] angle: 0.5235987755982989\n",
      "104 : [54, 46, 62] angle: 0.26179938779914946\n",
      "105 : [55, 57] angle: 0.3926990816987242\n",
      "106 : [56, 57] angle: 0.7853981633974484\n",
      "107 : [57, 55, 48] angle: 0.2617993948236242\n",
      "108 : [58, 55, 61] angle: 0.26179938779914946\n",
      "109 : [59, 63, 48] angle: 0.5235987896472484\n",
      "110 : [60, 63, 61] angle: 1.0471975511965976\n",
      "111 : [61, 58, 51] angle: 0.2617993948236242\n",
      "112 : [62, 53, 65] angle: 0.26179938779914946\n",
      "113 : [63, 59] angle: 0.7853981739341604\n",
      "114 : [64, 59] angle: 0.3926990922354363\n",
      "115 : [65, 62, 66] angle: 0.0\n",
      "116 : [66, 65, 67] angle: 0.0\n",
      "117 : [67, 66, 68] angle: 0.0\n",
      "118 : [68, 67, 69] angle: 0.0\n",
      "119 : [69, 68, 70] angle: 0.0\n",
      "120 : [70, 69, 71] angle: 0.0\n",
      "121 : [71, 70, 72] angle: 0.0\n",
      "122 : [72, 71, 73] angle: 0.26179938779914946\n",
      "123 : [73, 72, 77] angle: 0.5235987755982989\n",
      "124 : [74, 72, 75] angle: 0.26179938779914946\n",
      "125 : [75, 74] angle: 0.3926990816987242\n",
      "126 : [76, 74] angle: 0.0\n",
      "127 : [77, 73] angle: 0.7853981633974484\n",
      "128 : [78, 73] angle: 1.1780972450961724\n"
     ]
    }
   ],
   "source": [
    "for item in pool_vision:\n",
    "    if item.neuron[\"meta\"][\"matrix_width\"]==5:\n",
    "        print(item.neuron[\"_id\"],\":\",item.neuron[\"DbConnectivity\"][\"pre_synaptique\"], \"angle:\", item.neuron[\"meta\"][\"angle\"])\n"
   ]
  },
  {
   "cell_type": "code",
   "execution_count": 247,
   "metadata": {},
   "outputs": [
    {
     "name": "stdout",
     "output_type": "stream",
     "text": [
      "129 : [98, 107] angle: 0.2617993983358616\n",
      "131 : [81, 96] angle: 0.7853981669096857\n",
      "133 : [83, 97] angle: 0.0\n",
      "134 : [84, 87] angle: 0.7853981633974484\n",
      "136 : [112, 115, 116, 117, 118, 119, 120, 121, 122] angle: 0.058177641733144325\n",
      "137 : [90, 100] angle: 0.5235987826227737\n",
      "149 : [124, 125] angle: 0.32724923474893686\n"
     ]
    }
   ],
   "source": [
    "for item in pool_vision:\n",
    "    if item.neuron[\"meta\"][\"matrix_width\"]==7:\n",
    "        print(item.neuron[\"_id\"],\":\",item.neuron[\"DbConnectivity\"][\"pre_synaptique\"], \"angle:\", item.neuron[\"meta\"][\"angle\"])\n"
   ]
  },
  {
   "cell_type": "code",
   "execution_count": 218,
   "metadata": {},
   "outputs": [
    {
     "data": {
      "text/plain": [
       "{'_id': 127,\n",
       " 'schema_version': 2,\n",
       " 'type': 'sentive_vision_arcs',\n",
       " 'DbConnectivity': {'pre_synaptique': [77, 73], 'post_synaptique': [136]},\n",
       " 'meta': {'mode': 'croissance',\n",
       "  'center': {'x': 13, 'y': 21},\n",
       "  'matrix_width': 5,\n",
       "  'local_tip_1': {'x': 0, 'y': 0},\n",
       "  'vector_1': {'x': -0.5, 'y': -1.0},\n",
       "  'local_tip_2': {'x': 0, 'y': 0},\n",
       "  'vector_2': {'x': 0.5, 'y': 1.0},\n",
       "  'axes_symétrie': [],\n",
       "  'angle': 0.7853981633974484,\n",
       "  'iteration_n': 2}}"
      ]
     },
     "execution_count": 218,
     "metadata": {},
     "output_type": "execute_result"
    }
   ],
   "source": [
    "pool_vision[127].neuron"
   ]
  },
  {
   "cell_type": "code",
   "execution_count": 248,
   "metadata": {},
   "outputs": [
    {
     "name": "stdout",
     "output_type": "stream",
     "text": [
      "{'_id': 131, 'schema_version': 2, 'type': 'sentive_vision_arcs', 'DbConnectivity': {'pre_synaptique': [81, 96], 'post_synaptique': []}, 'meta': {'mode': 'croissance', 'center': {'x': 11, 'y': 9}, 'matrix_width': 7, 'local_tip_1': {'x': 0, 'y': 0}, 'vector_1': {'x': 0, 'y': 0}, 'local_tip_2': {'x': 0, 'y': 0}, 'vector_2': {'x': 0, 'y': 0}, 'axes_symétrie': [], 'angle': 0.7853981669096857, 'iteration_n': 0, 'field_list': [54, 35, 46, 31], 'std_angle': 3.512237389813322e-09}}\n"
     ]
    },
    {
     "data": {
      "image/png": "[encoded data removed]",
      "text/plain": [
       "<Figure size 288x288 with 1 Axes>"
      ]
     },
     "metadata": {
      "needs_background": "light"
     },
     "output_type": "display_data"
    }
   ],
   "source": [
    "show_receptive_field_id(131)"
   ]
  },
  {
   "cell_type": "code",
   "execution_count": 118,
   "metadata": {},
   "outputs": [
    {
     "name": "stdout",
     "output_type": "stream",
     "text": [
      "50 neurons\n"
     ]
    },
    {
     "data": {
      "image/png": "[encoded data removed]",
      "text/plain": [
       "<Figure size 288x288 with 1 Axes>"
      ]
     },
     "metadata": {
      "needs_background": "light"
     },
     "output_type": "display_data"
    }
   ],
   "source": [
    "show_all_fields(0,3)"
   ]
  },
  {
   "cell_type": "code",
   "execution_count": 116,
   "metadata": {},
   "outputs": [
    {
     "name": "stdout",
     "output_type": "stream",
     "text": [
      "50 neurons\n"
     ]
    },
    {
     "data": {
      "image/png": "[encoded data removed]",
      "text/plain": [
       "<Figure size 288x288 with 1 Axes>"
      ]
     },
     "metadata": {
      "needs_background": "light"
     },
     "output_type": "display_data"
    }
   ],
   "source": [
    "show_all_fields(0,7)"
   ]
  },
  {
   "cell_type": "code",
   "execution_count": 230,
   "metadata": {},
   "outputs": [
    {
     "name": "stdout",
     "output_type": "stream",
     "text": [
      "9 neurons\n"
     ]
    },
    {
     "data": {
      "image/png": "[encoded data removed]",
      "text/plain": [
       "<Figure size 288x288 with 1 Axes>"
      ]
     },
     "metadata": {
      "needs_background": "light"
     },
     "output_type": "display_data"
    }
   ],
   "source": [
    "show_all_fields(0,7)"
   ]
  },
  {
   "cell_type": "code",
   "execution_count": 220,
   "metadata": {},
   "outputs": [
    {
     "name": "stdout",
     "output_type": "stream",
     "text": [
      "{'_id': 89, 'schema_version': 2, 'type': 'sentive_vision_arcs', 'DbConnectivity': {'pre_synaptique': [39, 36, 53], 'post_synaptique': [136]}, 'meta': {'mode': 'croissance', 'center': {'x': 11, 'y': 9}, 'matrix_width': 5, 'local_tip_1': {'x': 0, 'y': 0}, 'vector_1': {'x': -1.0, 'y': 0.0}, 'local_tip_2': {'x': 0, 'y': 0}, 'vector_2': {'x': 0.6666666666666666, 'y': 0.6666666666666666}, 'axes_symétrie': [], 'angle': 0.7853981633974484, 'iteration_n': 2}}\n"
     ]
    },
    {
     "data": {
      "image/png": "[encoded data removed]",
      "text/plain": [
       "<Figure size 288x288 with 1 Axes>"
      ]
     },
     "metadata": {
      "needs_background": "light"
     },
     "output_type": "display_data"
    }
   ],
   "source": [
    "show_receptive_field_id(89)"
   ]
  },
  {
   "cell_type": "code",
   "execution_count": 245,
   "metadata": {},
   "outputs": [
    {
     "name": "stdout",
     "output_type": "stream",
     "text": [
      "{'_id': 136, 'schema_version': 2, 'type': 'sentive_vision_arcs', 'DbConnectivity': {'pre_synaptique': [112, 115, 116, 117, 118, 119, 120, 121, 122], 'post_synaptique': []}, 'meta': {'mode': 'croissance', 'center': {'x': 12, 'y': 15}, 'matrix_width': 7, 'local_tip_1': {'x': 0, 'y': 0}, 'vector_1': {'x': 0, 'y': 0}, 'local_tip_2': {'x': 0, 'y': 0}, 'vector_2': {'x': 0, 'y': 0}, 'axes_symétrie': [], 'angle': 0.058177641733144325, 'iteration_n': 0, 'field_list': [65, 66, 67, 68, 69, 70, 71, 72, 73, 53, 62], 'std_angle': 0.10884040146795369}}\n"
     ]
    },
    {
     "data": {
      "image/png": "[encoded data removed]",
      "text/plain": [
       "<Figure size 288x288 with 1 Axes>"
      ]
     },
     "metadata": {
      "needs_background": "light"
     },
     "output_type": "display_data"
    }
   ],
   "source": [
    "show_receptive_field_id(137)"
   ]
  },
  {
   "cell_type": "code",
   "execution_count": 252,
   "metadata": {},
   "outputs": [
    {
     "data": {
      "image/png": "[encoded data removed]",
      "text/plain": [
       "<Figure size 288x288 with 1 Axes>"
      ]
     },
     "metadata": {
      "needs_background": "light"
     },
     "output_type": "display_data"
    }
   ],
   "source": [
    "show_neuron_receptive_field(149)"
   ]
  },
  {
   "cell_type": "code",
   "execution_count": 31,
   "metadata": {},
   "outputs": [
    {
     "name": "stdout",
     "output_type": "stream",
     "text": [
      "46 neurons\n"
     ]
    },
    {
     "data": {
      "image/png": "[encoded data removed]",
      "text/plain": [
       "<Figure size 288x288 with 1 Axes>"
      ]
     },
     "metadata": {
      "needs_background": "light"
     },
     "output_type": "display_data"
    }
   ],
   "source": [
    "show_all_fields()"
   ]
  },
  {
   "cell_type": "code",
   "execution_count": 116,
   "metadata": {},
   "outputs": [
    {
     "data": {
      "text/plain": [
       "{'schema_version': 2,\n",
       " 'type': 'sentive_vision_arcs',\n",
       " 'DbConnectivity': {'pre_synaptique': []},\n",
       " 'meta': {'mode': 'croissance',\n",
       "  'center': {'x': 9, 'y': 6},\n",
       "  'matrix_width': 3,\n",
       "  'local_tip_1': {'x': 1.0, 'y': 0},\n",
       "  'vector_1': {'x': 0.0, 'y': -1.0},\n",
       "  'local_tip_2': {'x': 1.0, 'y': 2.0},\n",
       "  'vector_2': {'x': 0.0, 'y': 1.0},\n",
       "  'axes_symétrie': [1],\n",
       "  'angle': 0.0,\n",
       "  'iteration_n': 0}}"
      ]
     },
     "execution_count": 116,
     "metadata": {},
     "output_type": "execute_result"
    }
   ],
   "source": [
    "pool_vision[1].neuron"
   ]
  },
  {
   "cell_type": "code",
   "execution_count": 117,
   "metadata": {},
   "outputs": [
    {
     "name": "stdout",
     "output_type": "stream",
     "text": [
      "{'schema_version': 2, 'type': 'sentive_vision_arcs', 'DbConnectivity': {'pre_synaptique': []}, 'meta': {'mode': 'croissance', 'center': {'x': 9, 'y': 5}, 'matrix_width': 3, 'local_tip_1': {'x': 2.0, 'y': 1.0}, 'vector_1': {'x': 1.0, 'y': 0.0}, 'local_tip_2': {'x': 1.0, 'y': 2.0}, 'vector_2': {'x': 0.0, 'y': 1.0}, 'axes_symétrie': [3], 'angle': 1.5707963267948966, 'iteration_n': 0}}\n"
     ]
    },
    {
     "data": {
      "image/png": "[encoded data removed]",
      "text/plain": [
       "<Figure size 288x288 with 1 Axes>"
      ]
     },
     "metadata": {
      "needs_background": "light"
     },
     "output_type": "display_data"
    }
   ],
   "source": [
    "show_receptive_field(0)"
   ]
  },
  {
   "cell_type": "code",
   "execution_count": 118,
   "metadata": {},
   "outputs": [
    {
     "data": {
      "text/plain": [
       "<matplotlib.image.AxesImage at 0x7f90de511b38>"
      ]
     },
     "execution_count": 118,
     "metadata": {},
     "output_type": "execute_result"
    },
    {
     "data": {
      "image/png": "[encoded data removed]",
      "text/plain": [
       "<Figure size 288x288 with 1 Axes>"
      ]
     },
     "metadata": {
      "needs_background": "light"
     },
     "output_type": "display_data"
    }
   ],
   "source": [
    "plt.matshow(episode[0][0][:,:,0]>0)"
   ]
  },
  {
   "cell_type": "code",
   "execution_count": 120,
   "metadata": {},
   "outputs": [],
   "source": [
    "def intarray(binstring):\n",
    "    '''Change a 2D matrix of 01 chars into a list of lists of ints'''\n",
    "    return [[1 if ch == '1' else 0 for ch in line] \n",
    "            for line in binstring.strip().split()]\n",
    " \n",
    "def chararray(intmatrix):\n",
    "    '''Change a 2d list of lists of 1/0 ints into lines of 1/0 chars'''\n",
    "    return '\\n'.join(''.join(str(p) for p in row) for row in intmatrix)\n",
    " \n",
    "def toTxt(intmatrix):\n",
    "    '''Change a 2d list of lists of 1/0 ints into lines of '#' and '.' chars'''\n",
    "    return '\\n'.join(''.join(('#' if p else '.') for p in row) for row in intmatrix)\n",
    " \n",
    "def neighbours(x, y, image):\n",
    "    '''Return 8-neighbours of point p1 of picture, in order'''\n",
    "    i = image\n",
    "    x1, y1, x_1, y_1 = x+1, y-1, x-1, y+1\n",
    "    #print ((x,y))\n",
    "    return [i[y1][x],  i[y1][x1],   i[y][x1],  i[y_1][x1],  # P2,P3,P4,P5\n",
    "            i[y_1][x], i[y_1][x_1], i[y][x_1], i[y1][x_1]]  # P6,P7,P8,P9\n",
    " \n",
    "def transitions(neighbours):\n",
    "    n = neighbours + neighbours[0:1]    # P2, ... P9, P2\n",
    "    return sum((n1, n2) == (0, 1) for n1, n2 in zip(n, n[1:]))\n",
    " \n",
    "def zhangSuen(image):\n",
    "    changing1 = changing2 = [(-1, -1)]\n",
    "    while changing1 or changing2:\n",
    "        # Step 1\n",
    "        changing1 = []\n",
    "        for y in range(1, len(image) - 1):\n",
    "            for x in range(1, len(image[0]) - 1):\n",
    "                P2,P3,P4,P5,P6,P7,P8,P9 = n = neighbours(x, y, image)\n",
    "                if (image[y][x] == 1 and    # (Condition 0)\n",
    "                    P4 * P6 * P8 == 0 and   # Condition 4\n",
    "                    P2 * P4 * P6 == 0 and   # Condition 3\n",
    "                    transitions(n) == 1 and # Condition 2\n",
    "                    2 <= sum(n) <= 6):      # Condition 1\n",
    "                    changing1.append((x,y))\n",
    "        for x, y in changing1: image[y][x] = 0\n",
    "        # Step 2\n",
    "        changing2 = []\n",
    "        for y in range(1, len(image) - 1):\n",
    "            for x in range(1, len(image[0]) - 1):\n",
    "                P2,P3,P4,P5,P6,P7,P8,P9 = n = neighbours(x, y, image)\n",
    "                if (image[y][x] == 1 and    # (Condition 0)\n",
    "                    P2 * P6 * P8 == 0 and   # Condition 4\n",
    "                    P2 * P4 * P8 == 0 and   # Condition 3\n",
    "                    transitions(n) == 1 and # Condition 2\n",
    "                    2 <= sum(n) <= 6):      # Condition 1\n",
    "                    changing2.append((x,y))\n",
    "        for x, y in changing2: image[y][x] = 0\n",
    "        #print changing1\n",
    "        #print changing2\n",
    "    return image"
   ]
  },
  {
   "cell_type": "code",
   "execution_count": 121,
   "metadata": {},
   "outputs": [],
   "source": [
    "sub_matrx = zhangSuen(episode[0][0][:,:,0]>0)"
   ]
  },
  {
   "cell_type": "code",
   "execution_count": 122,
   "metadata": {},
   "outputs": [
    {
     "data": {
      "text/plain": [
       "<matplotlib.image.AxesImage at 0x7f90de7fc978>"
      ]
     },
     "execution_count": 122,
     "metadata": {},
     "output_type": "execute_result"
    },
    {
     "data": {
      "image/png": "[encoded data removed]",
      "text/plain": [
       "<Figure size 288x288 with 1 Axes>"
      ]
     },
     "metadata": {
      "needs_background": "light"
     },
     "output_type": "display_data"
    }
   ],
   "source": [
    "plt.matshow(sub_matrx)"
   ]
  },
  {
   "cell_type": "markdown",
   "metadata": {},
   "source": [
    "Now let's take a look at the **batch** mode. \n",
    "Let's define the batch configuration as \\[28, 30\\] indicating that we'd like to receive data from the meta-train split in batches of 30 images of shape \\[28,28,3\\]. "
   ]
  },
  {
   "cell_type": "code",
   "execution_count": 7,
   "metadata": {},
   "outputs": [
    {
     "name": "stdout",
     "output_type": "stream",
     "text": [
      "Batch images shape : (30, 28, 28, 3)\n",
      "Batch labels shape : (30,)\n"
     ]
    },
    {
     "data": {
      "image/png": "[encoded data removed]",
      "text/plain": [
       "<Figure size 1800x2250 with 30 Axes>"
      ]
     },
     "metadata": {},
     "output_type": "display_data"
    }
   ],
   "source": [
    "# The DataGenerator initialization creates 2 generators as attributes :\n",
    "# Meta-train data generator : meta_train_pipeline\n",
    "# Meta-valid data generator : meta_valid_pipeline\n",
    "batch_data_generator = DataGenerator(path_to_records=meta_train_dir,\n",
    "                                    batch_config=[28, 30],\n",
    "                                    episode_config=None,\n",
    "                                    valid_episode_config=[28,5,1,19],\n",
    "                                    pool='train',\n",
    "                                    mode='batch')\n",
    "\n",
    "meta_train_generator = batch_data_generator.meta_train_pipeline\n",
    "meta_valid_generator = batch_data_generator.meta_valid_pipeline\n",
    "\n",
    "meta_train_iterator = meta_train_generator.__iter__()\n",
    "((images, labels), _) = next(meta_train_iterator)\n",
    "print(f'Batch images shape : {images.shape}')\n",
    "print(f'Batch labels shape : {labels.shape}')\n",
    "\n",
    "def plot_batch(images, labels, size_multiplier=1):\n",
    "    \"\"\" Plot the images in a batch. Notice that labels,\n",
    "    corresponds to images original class id_s.\n",
    "    Args:\n",
    "        images: tf.Tensor, shape \n",
    "                (batch_size, image_size, image_size, 3)\n",
    "        labels: tf.Tensor, shape (batch_size,)\n",
    "        size_multiplier: Float, defines how big images will\n",
    "            be displayed.\n",
    "    \"\"\"\n",
    "    num_examples = len(labels)\n",
    "    figwidth = np.ceil(np.sqrt(num_examples)).astype('int32')\n",
    "    figheight = num_examples // figwidth\n",
    "    figsize = (figwidth * size_multiplier, (figheight + 2.5) * size_multiplier)\n",
    "    _, axarr = plt.subplots(figwidth, figheight, dpi=300, figsize=figsize)\n",
    "\n",
    "    for i, ax in enumerate(axarr.transpose().ravel()):\n",
    "        # Images are between -1 and 1.\n",
    "        ax.imshow(images[i] / 2 + 0.5)\n",
    "        ax.set(xlabel=str(labels[i].numpy()), xticks=[], yticks=[])\n",
    "    \n",
    "    plt.show()\n",
    "\n",
    "plot_batch(images, labels)"
   ]
  },
  {
   "cell_type": "markdown",
   "metadata": {},
   "source": [
    "For the challenge, you don't need to create your generators, you will receive a DataGenerator object (thus already initialized). The way you receive the DataGenerator object will be described in the next section. The default setting is the episodic setting 5-way 1-shot for every meta-split. However, if you do think you could achieve better performance with your own meta-training setting, you can specify it. In order to specify your own setting, you need to write down your settings in a gin file named **config.gin** and put it in your submission folder before zipping it. We will go over the structure of submission folder in the next sections. Here is an example of a config file for the prototypical networks algorithms : \n",
    "\n",
    "**Content of a <code>config.gin</code> file**:\n",
    "```bash\n",
    "DataGenerator.batch_config = None\n",
    "DataGenerator.episode_config = [ 28, 60, 1, 5 ]\n",
    "DataGenerator.valid_episode_config = [ 28, 5, 1, 19 ]\n",
    "DataGenerator.pool = 'train'\n",
    "DataGenerator.mode = 'episode'\n",
    "```\n",
    "First, notice the configuration of episodes coming from the meta-train split, described by **episode_config**. The first value denotes the image size of the received images, here we kept the original value 28. Then you can specify the number of classes in your episodes, here it is set to 60! Then you specify the number of shots **K**, here 1. And finally you can specify the number of query examples per class, here 5. In this example, the meta-validation episodes description, **valid_episode_config**, is set to <code>[28, 5, 1, 19]</code> to match the episode configuration at meta-test time.\n",
    "\n",
    "\n",
    "For clarity here are the configuration descriptions : \n",
    "\n",
    "<code>episode_config = [img_size, num_ways, num_shots_per_class, num_query_per_class]</code>\n",
    "\n",
    "<code>batch_config = [img_size, batch_size]</code>\n",
    "\n",
    "---\n",
    "\n",
    "**Section summary** :\n",
    "\n",
    "* You can choose to generate data from the meta-train split in the form of episodes or batches. Default configurations are episodic but you can change it via a **config.gin** file that you put in your folder submission.\n",
    "* You can choose to have access to episodes coming from the meta-validation split to match the evaluation at meta-test time. However, we do not allow you to generate data from the meta-validation split in batch mode."
   ]
  },
  {
   "cell_type": "markdown",
   "metadata": {},
   "source": [
    "# II - Submission details\n",
    "In this section, we will review the structure of a valid submission. We will see that the data we receive for the few-shot learning algorithm follows the aforementioned structure.\n",
    "\n",
    "\n",
    "\n",
    "The participants would have to submit a zip file containing one or several files. The crucial file to add is <code>model.py</code>. It contains the meta-learning algorithm logic. This file **has** to follow the specific API that we defined for the challenge described in the following figure : \n",
    "\n",
    "![Challenge API](Api.png)\n",
    "\n",
    "The 3 classes with their associated methods that need to be overriden are the following :\n",
    "* **MetaLearner** : The meta-learner contains the meta-algorithm logic. The <code>meta_fit(data_generator)</code> method has to be overriden with your own meta-learning algorithm. It receives a DataGenerator object initialized with default setting or your **config.gin** file.\n",
    "\n",
    "* **Learner** : It encapsulates the logic to learn from a new unseen task. Several methods need to be overriden : \n",
    " * <code>fit(D_train)</code>: Takes a support (train) set as an argument and fit the learner according to this dataset.\n",
    " * <code>save()</code> : You need to implement a way to save your model in a pre-defined directory. \n",
    " * <code>load()</code> : You need to implement a way to load your model from the file you created in <code>save()</code>.\n",
    "* **Predictor** : The predictor contains the logic of your model to make predictions once the learner is fitted. The <code>predict(D_test)</code> encapsulates this step and takes a query (test) set as an argument, i.e. unlabelled examples."
   ]
  },
  {
   "cell_type": "markdown",
   "metadata": {},
   "source": [
    "## Walkthrough a submission example\n",
    "\n",
    "In this sub-section, we present how your code submission folder should look like before zipping it.  \n",
    "\n",
    "**Example of a submission directory**\n",
    "```\n",
    "proto\n",
    "|   metadata  (Mandatory)\n",
    "│   model.py  (Mandatory)\n",
    "│   model.gin (Optional but has to have this name)\n",
    "|   config.gin (Optional but has to have this name)\n",
    "│   helper.py (Optional) \n",
    "│   utils.py  (Optional)\n",
    "│   ...\n",
    "```\n",
    "<code>model.py</code> and <code>metadata</code> are the crucial files to be added. The former contains your few-shot learning algorithm and the latter is just a file for the competition server to work properly, you simply add it to your folder without worrying about it (you can find this file in any given baseline's folder). Other files could be added and it us up to you to organize your code as you'd like.\n"
   ]
  },
  {
   "cell_type": "markdown",
   "metadata": {},
   "source": [
    "## Defining the classes\n",
    "We go through a dummy example to understand how to create a model. In the code cell below, you can find the **zero** baseline. There are 2 important remarks :\n",
    "* First, it is mandatory to **write a file** in the <code>model_dir</code> given as an argument in the <code>save()</code> method. It could be a any file, some metadata that you gathered and/or your serialized neural network, but you need to include one.\n",
    "* Then, one can notice that the shape of the tensor returned by the <code>predict</code> method is (95,5). Indeed, The number of query examples is set to 95 for the episodes generated from the **meta-test** dataset, in the **Omniglot** dataset (i.e. the public dataset). Make sure your own predictions match the shape of the corresponding challenge phase. You can check the outputs shape in the CodaLab competition website. \n",
    "\n",
    "**Note** : You can always test your algorithm with <code>run.py</code> to verify everything is working properly. We explain how to run the script in the next section."
   ]
  },
  {
   "cell_type": "code",
   "execution_count": 8,
   "metadata": {},
   "outputs": [],
   "source": [
    "from metadl.api.api import MetaLearner, Learner, Predictor\n",
    "\n",
    "class MyMetaLearner(MetaLearner):\n",
    "\n",
    "    def __init__(self):\n",
    "        super().__init__()\n",
    "\n",
    "    def meta_fit(self, meta_dataset_generator) -> Learner:\n",
    "        \"\"\"\n",
    "        Args:\n",
    "            meta_dataset_generator : a DataGenerator object. We can access \n",
    "                the meta-train and meta-validation data via its attributes.\n",
    "                Refer to the metadl/data/dataset.py for more details.\n",
    "        \n",
    "        Returns:\n",
    "            MyLearner object : a Learner that stores the meta-learner's \n",
    "                learning object. (e.g. a neural network trained on meta-train\n",
    "                episodes)\n",
    "        \"\"\"\n",
    "        return MyLearner()\n",
    "\n",
    "class MyLearner(Learner):\n",
    "\n",
    "    def __init__(self):\n",
    "        super().__init__()\n",
    "\n",
    "    def fit(self, dataset_train) -> Predictor:\n",
    "        \"\"\"\n",
    "        Args: \n",
    "            dataset_train : a tf.data.Dataset object. It is an iterator over \n",
    "                the support examples.\n",
    "        Returns:\n",
    "            ModelPredictor : a Predictor.\n",
    "        \"\"\"\n",
    "        return MyPredictor()\n",
    "\n",
    "    def save(self, model_dir):\n",
    "        \"\"\" Saves the learning object associated to the Learner. It could be \n",
    "        a neural network for example. \n",
    "\n",
    "        Note : It is mandatory to write a file in model_dir. Otherwise, your \n",
    "        code won't be available in the scoring process (and thus it won't be \n",
    "        a valid submission).\n",
    "        \"\"\"\n",
    "        if(os.path.isdir(model_dir) != True):\n",
    "            raise ValueError(('The model directory provided is invalid. Please'\n",
    "                + ' check that its path is valid.'))\n",
    "        \n",
    "        # Save a file for the code submission to work correctly.\n",
    "        with open(os.path.join(model_dir,'dummy_sample.csv'), 'w', newline='') as csvfile:\n",
    "            writer = csv.writer(csvfile, delimiter=' ',\n",
    "                                quotechar='|', quoting=csv.QUOTE_MINIMAL)\n",
    "            writer.writerow(['Dummy example'])\n",
    "            \n",
    "    def load(self, model_dir):\n",
    "        \"\"\" Loads the learning object associated to the Learner. It should \n",
    "        match the way you saved this object in save().\n",
    "        \"\"\"\n",
    "        if(os.path.isdir(model_dir) != True):\n",
    "            raise ValueError(('The model directory provided is invalid. Please'\n",
    "                + ' check that its path is valid.'))\n",
    "        \n",
    "    \n",
    "class MyPredictor(Predictor):\n",
    "\n",
    "    def __init__(self):\n",
    "        super().__init__()\n",
    "\n",
    "    def predict(self, dataset_test):\n",
    "        \"\"\" Predicts the label of the examples in the query set which is the \n",
    "        dataset_test in this case. The prototypes are already computed by\n",
    "        the Learner.\n",
    "\n",
    "        Args:\n",
    "            dataset_test : a tf.data.Dataset object. An iterator over the \n",
    "                unlabelled query examples.\n",
    "        Returns: \n",
    "            preds : tensors, shape (num_examples, N_ways). We are using the \n",
    "                Sparse Categorical Accuracy to evaluate the predictions. Valid \n",
    "                tensors can take 2 different forms described below.\n",
    "\n",
    "        Case 1 : The i-th prediction row contains the i-th example logits.\n",
    "        Case 2 : The i-th prediction row contains the i-th example \n",
    "                probabilities.\n",
    "\n",
    "        Since in both cases the SparseCategoricalAccuracy behaves the same way,\n",
    "        i.e. taking the argmax of the row inputs, both forms are valid.\n",
    "        Note : In the challenge N_ways = 5 at meta-test time.\n",
    "        \"\"\"\n",
    "        # mimick the softmax outputs\n",
    "        dummy_pred = tf.constant([[1.0, 0, 0, 0 ,0]], dtype=tf.float32)\n",
    "        dummy_pred = tf.broadcast_to(dummy_pred, (95, 5))\n",
    "        return dummy_pred\n"
   ]
  },
  {
   "cell_type": "markdown",
   "metadata": {},
   "source": [
    "You can refer to the <code>metadl/baselines/</code> folder if you want to see submission examples. Here are the algorithms provided : \n",
    "* The **dummy zero** baseline  \n",
    "* The **Prototypical Networks** based on  [J. Snell et al. - Prototypical Networks for Few-shot Learning (2017)](https://arxiv.org/pdf/1703.05175)\n",
    "* The **fo-MAML** algorithm based on [C. Finn et al. - Model-Agnostic Meta-Learning for Fast Adaptation of Deep Networks (2017)](https://arxiv.org/pdf/1703.03400)"
   ]
  },
  {
   "cell_type": "markdown",
   "metadata": {},
   "source": [
    "# III - Test and Submission\n",
    "\n",
    "Here we present the <code>run.py</code> script. It is meant to mimick what is happenning on the CodaLab platform, i.e. the competition server. Let's say you worked on an algorithm and you are ready to test it before submitting it. More specifically, it will create your MetaLearner object, run the meta-fit method and evaluate your meta-algorithm on test episodes generated from the meta-test split. You can run the script command with the following arguments :\n",
    "* <code>meta_dataset_dir</code> : The path which contains the **2 meta-datasets**, the meta-train dataset and the meta-test dataset. The <code>quick_start.sh</code> script that you executed or the Docker image, downloaded the public dataset : Omniglot. \n",
    "* <code>code_dir</code> : The path which contains your **algorithm's code** following the format we previously defined. \n"
   ]
  },
  {
   "cell_type": "code",
   "execution_count": null,
   "metadata": {},
   "outputs": [],
   "source": []
  },
  {
   "cell_type": "code",
   "execution_count": 9,
   "metadata": {},
   "outputs": [
    {
     "name": "stdout",
     "output_type": "stream",
     "text": [
      "2021-08-26 12:36:10.634182: I tensorflow/stream_executor/platform/default/dso_loader.cc:48] Successfully opened dynamic library libcudart.so.10.1\n",
      "WARNING:root:Argument whitelist is deprecated. Please use allowlist.\n",
      "WARNING:root:Argument whitelist is deprecated. Please use allowlist.\n",
      "WARNING:root:Argument whitelist is deprecated. Please use allowlist.\n",
      "WARNING:root:Argument whitelist is deprecated. Please use allowlist.\n",
      "I0826 12:36:13.532788 140647650514752 run.py:63] Cleaning existing output directory of last run: model_dir/\n",
      "I0826 12:36:13.571436 140647650514752 run.py:63] Cleaning existing output directory of last run: scoring_output/\n",
      "2021-08-26 12:36:14.066029: I tensorflow/stream_executor/platform/default/dso_loader.cc:48] Successfully opened dynamic library libcudart.so.10.1\n",
      "WARNING:root:Argument whitelist is deprecated. Please use allowlist.\n",
      "WARNING:root:Argument whitelist is deprecated. Please use allowlist.\n",
      "WARNING:root:Argument whitelist is deprecated. Please use allowlist.\n",
      "WARNING:root:Argument whitelist is deprecated. Please use allowlist.\n",
      "sh: 1: nvidia-smi: not found\n",
      "nvcc: NVIDIA (R) Cuda compiler driver\n",
      "Copyright (c) 2005-2019 NVIDIA Corporation\n",
      "Built on Sun_Jul_28_19:07:16_PDT_2019\n",
      "Cuda compilation tools, release 10.1, V10.1.243\n",
      "2021-08-26 12:36:18.576592: I tensorflow/core/platform/cpu_feature_guard.cc:142] This TensorFlow binary is optimized with oneAPI Deep Neural Network Library (oneDNN)to use the following CPU instructions in performance-critical operations:  AVX2 FMA\n",
      "To enable them in other operations, rebuild TensorFlow with the appropriate compiler flags.\n",
      "2021-08-26 12:36:18.600992: I tensorflow/core/platform/profile_utils/cpu_utils.cc:104] CPU Frequency: 2400000000 Hz\n",
      "2021-08-26 12:36:18.601444: I tensorflow/compiler/xla/service/service.cc:168] XLA service 0x5a28690 initialized for platform Host (this does not guarantee that XLA will be used). Devices:\n",
      "2021-08-26 12:36:18.601490: I tensorflow/compiler/xla/service/service.cc:176]   StreamExecutor device (0): Host, Default Version\n",
      "2021-08-26 12:36:18.608025: I tensorflow/stream_executor/platform/default/dso_loader.cc:48] Successfully opened dynamic library libcuda.so.1\n",
      "2021-08-26 12:36:18.608084: E tensorflow/stream_executor/cuda/cuda_driver.cc:314] failed call to cuInit: UNKNOWN ERROR (-1)\n",
      "2021-08-26 12:36:18.608112: I tensorflow/stream_executor/cuda/cuda_diagnostics.cc:156] kernel driver does not appear to be running on this host (8b877f6d5b6a): /proc/driver/nvidia/version does not exist\n",
      "I0826 12:36:18.609122 140205744736064 ingestion.py:111] Tensorflow GPU version is not available.\n",
      "I0826 12:36:18.653412 140205744736064 ingestion.py:145] Creating the episode generator ...\n",
      "I0826 12:36:18.673314 140205744736064 dataset.py:132] Creating episode generator for meta-train dataset.\n",
      "WARNING:tensorflow:AutoGraph could not transform <bound method PythonHandler.emit of <PythonHandler <stderr> (NOTSET)>> and will run it as-is.\n",
      "Please report this to the TensorFlow team. When filing the bug, set the verbosity to 10 (on Linux, `export AUTOGRAPH_VERBOSITY=10`) and attach the full output.\n",
      "Cause: invalid syntax (tmp4dconzi6.py, line 52)\n",
      "To silence this warning, decorate the function with @tf.autograph.experimental.do_not_convert\n",
      "W0826 12:36:27.963598 140205744736064 ag_logging.py:146] AutoGraph could not transform <bound method PythonHandler.emit of <PythonHandler <stderr> (NOTSET)>> and will run it as-is.\n",
      "Please report this to the TensorFlow team. When filing the bug, set the verbosity to 10 (on Linux, `export AUTOGRAPH_VERBOSITY=10`) and attach the full output.\n",
      "Cause: invalid syntax (tmp4dconzi6.py, line 52)\n",
      "To silence this warning, decorate the function with @tf.autograph.experimental.do_not_convert\n",
      "I0826 12:36:27.346407 140205744736064 api.py:598] support augmentations:\n",
      "I0826 12:36:27.999608 140205744736064 api.py:598] enable_jitter: True\n",
      "I0826 12:36:28.008292 140205744736064 api.py:598] jitter_amount: 0\n",
      "I0826 12:36:28.014359 140205744736064 api.py:598] enable_gaussian_noise: True\n",
      "I0826 12:36:28.021454 140205744736064 api.py:598] gaussian_noise_std: 0.0\n",
      "I0826 12:36:28.034143 140205744736064 api.py:598] query augmentations:\n",
      "I0826 12:36:28.046544 140205744736064 api.py:598] enable_jitter: False\n",
      "I0826 12:36:28.065060 140205744736064 api.py:598] jitter_amount: 0\n",
      "I0826 12:36:28.076361 140205744736064 api.py:598] enable_gaussian_noise: False\n",
      "I0826 12:36:28.086395 140205744736064 api.py:598] gaussian_noise_std: 0.0\n",
      "WARNING:tensorflow:From /app/packages/meta-dataset/meta_dataset/data/pipeline.py:205: calling map_fn (from tensorflow.python.ops.map_fn) with dtype is deprecated and will be removed in a future version.\n",
      "Instructions for updating:\n",
      "Use fn_output_signature instead\n",
      "W0826 12:36:28.258504 140205744736064 deprecation.py:506] From /app/packages/meta-dataset/meta_dataset/data/pipeline.py:205: calling map_fn (from tensorflow.python.ops.map_fn) with dtype is deprecated and will be removed in a future version.\n",
      "Instructions for updating:\n",
      "Use fn_output_signature instead\n",
      "I0826 12:36:29.488030 140205744736064 api.py:598] support augmentations:\n",
      "I0826 12:36:29.493324 140205744736064 api.py:598] enable_jitter: True\n",
      "I0826 12:36:29.499211 140205744736064 api.py:598] jitter_amount: 0\n",
      "I0826 12:36:29.505022 140205744736064 api.py:598] enable_gaussian_noise: True\n",
      "I0826 12:36:29.513957 140205744736064 api.py:598] gaussian_noise_std: 0.0\n",
      "I0826 12:36:29.521082 140205744736064 api.py:598] query augmentations:\n",
      "I0826 12:36:29.532195 140205744736064 api.py:598] enable_jitter: False\n",
      "I0826 12:36:29.540301 140205744736064 api.py:598] jitter_amount: 0\n",
      "I0826 12:36:29.547647 140205744736064 api.py:598] enable_gaussian_noise: False\n",
      "I0826 12:36:29.554652 140205744736064 api.py:598] gaussian_noise_std: 0.0\n",
      "I0826 12:36:29.790939 140205744736064 dataset.py:261] Meta-Valid episode config : [28, 5, 1, 19]\n",
      "I0826 12:36:29.791130 140205744736064 dataset.py:263] Meta-Train episode config : [28, 5, 1, 19]\n",
      "I0826 12:36:29.791200 140205744736064 ingestion.py:149] Generator created !\n",
      "I0826 12:36:29.791266 140205744736064 ingestion.py:150] ##################################################\n",
      "I0826 12:36:29.791332 140205744736064 ingestion.py:152] Starting meta-fit ... \n",
      "\n",
      "hello from meta_fit! meta_dataset_generator: <class 'metadl.data.dataset.DataGenerator'>\n",
      "Length of the tuple describing an episode : 6 \n",
      "\n",
      "#Classes: 5\n",
      "../baselines/sentive_ai/model.py:60: UserWarning: Tight layout not applied. The bottom and top margins cannot be made large enough to accommodate all axes decorations. \n",
      "  fig.tight_layout(pad=3, w_pad=0.1, h_pad=0.1)\n",
      "Figure(500x100)\n",
      "Figure(500x1000)\n",
      "I0826 12:36:42.871301 140205744736064 ingestion.py:154] Meta-fit done.\n",
      "I0826 12:36:42.937220 140205744736064 ingestion.py:164] Saving the learner in model_dir/ ...\n",
      "I0826 12:36:42.941323 140205744736064 ingestion.py:166] Done! \n",
      " \n",
      "2021-08-26 12:36:45.428493: I tensorflow/stream_executor/platform/default/dso_loader.cc:48] Successfully opened dynamic library libcudart.so.10.1\n",
      "WARNING:root:Argument whitelist is deprecated. Please use allowlist.\n",
      "WARNING:root:Argument whitelist is deprecated. Please use allowlist.\n",
      "WARNING:root:Argument whitelist is deprecated. Please use allowlist.\n",
      "WARNING:root:Argument whitelist is deprecated. Please use allowlist.\n",
      "I0826 12:36:48.980188 140121029621568 scoring.py:193] Ingestion done! Starting scoring process ... \n",
      "I0826 12:36:48.980451 140121029621568 scoring.py:194] Creating the meta-test episode generator ... \n",
      " \n",
      "I0826 12:36:48.992230 140121029621568 dataset.py:132] Creating episode generator for meta-test dataset.\n",
      "2021-08-26 12:36:49.000180: I tensorflow/stream_executor/platform/default/dso_loader.cc:48] Successfully opened dynamic library libcuda.so.1\n",
      "2021-08-26 12:36:49.000252: E tensorflow/stream_executor/cuda/cuda_driver.cc:314] failed call to cuInit: UNKNOWN ERROR (-1)\n",
      "2021-08-26 12:36:49.000283: I tensorflow/stream_executor/cuda/cuda_diagnostics.cc:156] kernel driver does not appear to be running on this host (8b877f6d5b6a): /proc/driver/nvidia/version does not exist\n",
      "2021-08-26 12:36:49.001283: I tensorflow/core/platform/cpu_feature_guard.cc:142] This TensorFlow binary is optimized with oneAPI Deep Neural Network Library (oneDNN)to use the following CPU instructions in performance-critical operations:  AVX2 FMA\n",
      "To enable them in other operations, rebuild TensorFlow with the appropriate compiler flags.\n"
     ]
    },
    {
     "name": "stdout",
     "output_type": "stream",
     "text": [
      "2021-08-26 12:36:49.016468: I tensorflow/core/platform/profile_utils/cpu_utils.cc:104] CPU Frequency: 2400000000 Hz\n",
      "2021-08-26 12:36:49.017291: I tensorflow/compiler/xla/service/service.cc:168] XLA service 0x4c1dc20 initialized for platform Host (this does not guarantee that XLA will be used). Devices:\n",
      "2021-08-26 12:36:49.017445: I tensorflow/compiler/xla/service/service.cc:176]   StreamExecutor device (0): Host, Default Version\n",
      "WARNING:tensorflow:AutoGraph could not transform <bound method PythonHandler.emit of <PythonHandler <stderr> (NOTSET)>> and will run it as-is.\n",
      "Please report this to the TensorFlow team. When filing the bug, set the verbosity to 10 (on Linux, `export AUTOGRAPH_VERBOSITY=10`) and attach the full output.\n",
      "Cause: invalid syntax (tmp2ztl4w58.py, line 52)\n",
      "To silence this warning, decorate the function with @tf.autograph.experimental.do_not_convert\n",
      "W0826 12:36:56.618797 140121029621568 ag_logging.py:146] AutoGraph could not transform <bound method PythonHandler.emit of <PythonHandler <stderr> (NOTSET)>> and will run it as-is.\n",
      "Please report this to the TensorFlow team. When filing the bug, set the verbosity to 10 (on Linux, `export AUTOGRAPH_VERBOSITY=10`) and attach the full output.\n",
      "Cause: invalid syntax (tmp2ztl4w58.py, line 52)\n",
      "To silence this warning, decorate the function with @tf.autograph.experimental.do_not_convert\n",
      "I0826 12:36:56.039932 140121029621568 api.py:598] support augmentations:\n",
      "I0826 12:36:56.652338 140121029621568 api.py:598] enable_jitter: True\n",
      "I0826 12:36:56.659625 140121029621568 api.py:598] jitter_amount: 0\n",
      "I0826 12:36:56.666293 140121029621568 api.py:598] enable_gaussian_noise: True\n",
      "I0826 12:36:56.672706 140121029621568 api.py:598] gaussian_noise_std: 0.0\n",
      "I0826 12:36:56.679434 140121029621568 api.py:598] query augmentations:\n",
      "I0826 12:36:56.689807 140121029621568 api.py:598] enable_jitter: False\n",
      "I0826 12:36:56.695739 140121029621568 api.py:598] jitter_amount: 0\n",
      "I0826 12:36:56.701976 140121029621568 api.py:598] enable_gaussian_noise: False\n",
      "I0826 12:36:56.707422 140121029621568 api.py:598] gaussian_noise_std: 0.0\n",
      "WARNING:tensorflow:From /app/packages/meta-dataset/meta_dataset/data/pipeline.py:205: calling map_fn (from tensorflow.python.ops.map_fn) with dtype is deprecated and will be removed in a future version.\n",
      "Instructions for updating:\n",
      "Use fn_output_signature instead\n",
      "W0826 12:36:56.854243 140121029621568 deprecation.py:506] From /app/packages/meta-dataset/meta_dataset/data/pipeline.py:205: calling map_fn (from tensorflow.python.ops.map_fn) with dtype is deprecated and will be removed in a future version.\n",
      "Instructions for updating:\n",
      "Use fn_output_signature instead\n",
      "I0826 12:36:57.423245 140121029621568 dataset.py:215] Meta-test episode config : [28, 5, 1, 19]\n",
      "I0826 12:36:57.423512 140121029621568 scoring.py:210] Evaluating performance on episodes ... \n",
      "I0826 12:37:53.311175 140121029621568 scoring.py:251] Scoring done! The average score over 600 episodes is : 20.000%\n"
     ]
    }
   ],
   "source": [
    "!python -m metadl.core.run --meta_dataset_dir=../../omniglot --code_dir=../baselines/sentive_ai"
   ]
  },
  {
   "cell_type": "markdown",
   "metadata": {},
   "source": [
    "## Prepare a ZIP file ready for submission\n",
    "Here we present how to zip your code to submit it on the CodaLab platform. As an example, we zip the folder <code>metadl/baselines/zero/</code> which corresponds to the dummy baseline which was introduced in the previous section."
   ]
  },
  {
   "cell_type": "code",
   "execution_count": 10,
   "metadata": {},
   "outputs": [
    {
     "name": "stdout",
     "output_type": "stream",
     "text": [
      "Submit this file :mysubmission.zip\n"
     ]
    }
   ],
   "source": [
    "from zip_utils import zipdir\n",
    "\n",
    "model_dir = '../baselines/zero/'\n",
    "submission_filename = 'mysubmission.zip'\n",
    "zipdir(submission_filename, model_dir)\n",
    "print('Submit this file :' + submission_filename)"
   ]
  },
  {
   "cell_type": "markdown",
   "metadata": {},
   "source": [
    "## Summary \n",
    "For clarity, we summarize the steps that you should be aware of while making a submission : \n",
    "* Follow the **MetaLearner**/**Learner**/**Predictor** API to encapsulate your few-shot learning algorithm. Please make sure you name your subclasses as **MyMetaLearner**, **MyLearner** and **MyPredictor** respectively.\n",
    "* Make sure you <u>save</u> at least a file in the given <code>model_dir</code> path. If this is a trained neural network, you need to serialize it in the <code>save()</code> method, and provide code to deserialize it in the <code>load()</code> method. Examples are provided in <code>metadl/baselines/</code>.\n",
    "* In your algorithm folder, make sure you have <code>model.py</code> and <code>metadata</code> with these **exact** names. If you do use gin files, be sure to use the corresponding names as in the baselines, i.e. **model.gin** for your own model parameters and **config.gin** for the data generation configuration (batch vs episodes).\n",
    "\n",
    "--- \n",
    "\n",
    "## Next steps\n",
    "Now you know all the steps required to create a valid code submission.\n",
    "\n",
    "Good luck !"
   ]
  },
  {
   "cell_type": "code",
   "execution_count": null,
   "metadata": {},
   "outputs": [],
   "source": []
  }
 ],
 "metadata": {
  "interpreter": {
   "hash": "31f2aee4e71d21fbe5cf8b01ff0e069b9275f58929596ceb00d14d90e3e16cd6"
  },
  "kernelspec": {
   "display_name": "Python 3",
   "language": "python",
   "name": "python3"
  },
  "language_info": {
   "codemirror_mode": {
    "name": "ipython",
    "version": 3
   },
   "file_extension": ".py",
   "mimetype": "text/x-python",
   "name": "python",
   "nbconvert_exporter": "python",
   "pygments_lexer": "ipython3",
   "version": "3.6.9"
  },
  "varInspector": {
   "cols": {
    "lenName": 16,
    "lenType": 16,
    "lenVar": 40
   },
   "kernels_config": {
    "python": {
     "delete_cmd_postfix": "",
     "delete_cmd_prefix": "del ",
     "library": "var_list.py",
     "varRefreshCmd": "print(var_dic_list())"
    },
    "r": {
     "delete_cmd_postfix": ") ",
     "delete_cmd_prefix": "rm(",
     "library": "var_list.r",
     "varRefreshCmd": "cat(var_dic_list()) "
    }
   },
   "types_to_exclude": [
    "module",
    "function",
    "builtin_function_or_method",
    "instance",
    "_Feature"
   ],
   "window_display": false
  }
 },
 "nbformat": 4,
 "nbformat_minor": 2
}
