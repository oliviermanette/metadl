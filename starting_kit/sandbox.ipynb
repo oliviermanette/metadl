{
 "cells": [
  {
   "cell_type": "code",
   "execution_count": 12,
   "id": "00d6c423",
   "metadata": {},
   "outputs": [],
   "source": [
    "neuron = {\n",
    "    \"center\":{\n",
    "        \"x\":0,\n",
    "        \"y\":0\n",
    "    },\n",
    "    \"matrix_width\":1,\n",
    "    \"local_tip_1\":{\n",
    "        \"x\":0,\n",
    "        \"y\":0\n",
    "    },\n",
    "    \"local_tip_2\":{\n",
    "        \"x\":0,\n",
    "        \"y\":0\n",
    "    }\n",
    "}"
   ]
  },
  {
   "cell_type": "code",
   "execution_count": 13,
   "id": "5e3bc0c8",
   "metadata": {},
   "outputs": [
    {
     "data": {
      "text/plain": [
       "{'center': {'x': 0, 'y': 0},\n",
       " 'matrix_width': 1,\n",
       " 'local_tip_1': {'x': 0, 'y': 0},\n",
       " 'local_tip_2': {'x': 0, 'y': 0}}"
      ]
     },
     "execution_count": 13,
     "metadata": {},
     "output_type": "execute_result"
    }
   ],
   "source": [
    "neuron"
   ]
  },
  {
   "cell_type": "code",
   "execution_count": null,
   "id": "0f1dc8bd",
   "metadata": {},
   "outputs": [],
   "source": []
  }
 ],
 "metadata": {
  "kernelspec": {
   "display_name": "Python 3",
   "language": "python",
   "name": "python3"
  },
  "language_info": {
   "codemirror_mode": {
    "name": "ipython",
    "version": 3
   },
   "file_extension": ".py",
   "mimetype": "text/x-python",
   "name": "python",
   "nbconvert_exporter": "python",
   "pygments_lexer": "ipython3",
   "version": "3.6.9"
  }
 },
 "nbformat": 4,
 "nbformat_minor": 5
}
