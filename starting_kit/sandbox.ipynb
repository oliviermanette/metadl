{
 "cells": [
  {
   "cell_type": "code",
   "execution_count": 12,
   "source": [
    "neuron = {\n",
    "    \"center\":{\n",
    "        \"x\":0,\n",
    "        \"y\":0\n",
    "    },\n",
    "    \"matrix_width\":1,\n",
    "    \"local_tip_1\":{\n",
    "        \"x\":0,\n",
    "        \"y\":0\n",
    "    },\n",
    "    \"local_tip_2\":{\n",
    "        \"x\":0,\n",
    "        \"y\":0\n",
    "    }\n",
    "}"
   ],
   "outputs": [],
   "metadata": {}
  },
  {
   "cell_type": "code",
   "execution_count": 13,
   "source": [
    "neuron"
   ],
   "outputs": [
    {
     "output_type": "execute_result",
     "data": {
      "text/plain": [
       "{'center': {'x': 0, 'y': 0},\n",
       " 'matrix_width': 1,\n",
       " 'local_tip_1': {'x': 0, 'y': 0},\n",
       " 'local_tip_2': {'x': 0, 'y': 0}}"
      ]
     },
     "metadata": {},
     "execution_count": 13
    }
   ],
   "metadata": {}
  },
  {
   "cell_type": "code",
   "execution_count": 1,
   "source": [
    "pwd"
   ],
   "outputs": [
    {
     "output_type": "execute_result",
     "data": {
      "text/plain": [
       "'/app/codalab/metadl/starting_kit'"
      ]
     },
     "metadata": {},
     "execution_count": 1
    }
   ],
   "metadata": {}
  },
  {
   "cell_type": "code",
   "execution_count": 1,
   "source": [
    "ls"
   ],
   "outputs": [
    {
     "output_type": "stream",
     "name": "stdout",
     "text": [
      "\u001b[0m\u001b[01;35mApi.png\u001b[0m          \u001b[01;34m__pycache__\u001b[0m/               \u001b[01;31mmysubmission.zip\u001b[0m    \u001b[01;34mscoring_output\u001b[0m/\n",
      "\u001b[01;35mFSL_setting.png\u001b[0m  \u001b[01;35mevaluation-flow-chart.png\u001b[0m  \u001b[01;32mquick_start.sh\u001b[0m*     tutorial.ipynb\n",
      "README.md        \u001b[01;34mlogs\u001b[0m/                      sandbox.ipynb       zip_utils.py\n",
      "__init__.py      \u001b[01;34mmodel_dir\u001b[0m/                 sandbox_flod.ipynb\n"
     ]
    }
   ],
   "metadata": {}
  },
  {
   "cell_type": "code",
   "execution_count": 2,
   "source": [
    "pwd"
   ],
   "outputs": [
    {
     "output_type": "execute_result",
     "data": {
      "text/plain": [
       "'/app/codalab/metadl/starting_kit'"
      ]
     },
     "metadata": {},
     "execution_count": 2
    }
   ],
   "metadata": {}
  },
  {
   "cell_type": "code",
   "execution_count": null,
   "source": [],
   "outputs": [],
   "metadata": {}
  }
 ],
 "metadata": {
  "kernelspec": {
   "name": "python3",
   "display_name": "Python 3.6.9 64-bit"
  },
  "language_info": {
   "name": "python",
   "version": "3.6.9",
   "mimetype": "text/x-python",
   "codemirror_mode": {
    "name": "ipython",
    "version": 3
   },
   "pygments_lexer": "ipython3",
   "nbconvert_exporter": "python",
   "file_extension": ".py"
  },
  "interpreter": {
   "hash": "31f2aee4e71d21fbe5cf8b01ff0e069b9275f58929596ceb00d14d90e3e16cd6"
  }
 },
 "nbformat": 4,
 "nbformat_minor": 5
}